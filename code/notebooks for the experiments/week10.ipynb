{
 "cells": [
  {
   "cell_type": "code",
   "execution_count": 2,
   "id": "desperate-passport",
   "metadata": {},
   "outputs": [],
   "source": [
    "import torch\n",
    "from torch import nn\n",
    "from torch.nn import functional as F\n",
    "import collections\n",
    "import random\n",
    "import time\n",
    "import numpy as np\n",
    "import matplotlib.pyplot as plt\n",
    "%load_ext autoreload\n",
    "%autoreload 2"
   ]
  },
  {
   "cell_type": "code",
   "execution_count": 3,
   "id": "popular-software",
   "metadata": {},
   "outputs": [],
   "source": [
    "from grid_method import *\n",
    "from model import GHH"
   ]
  },
  {
   "cell_type": "code",
   "execution_count": 4,
   "id": "rural-capacity",
   "metadata": {},
   "outputs": [],
   "source": [
    "def get_region_1d(grad):\n",
    "    grad_n = grad.numpy()\n",
    "    grad_n = grad_n.reshape(-1)\n",
    "    sp = grad_n.shape\n",
    "    grad_n = grad_n.astype(str)\n",
    "    _, dist = np.unique(grad_n, return_inverse = True)\n",
    "    dist = dist.reshape(sp)\n",
    "    return dist"
   ]
  },
  {
   "cell_type": "code",
   "execution_count": 5,
   "id": "caroline-convenience",
   "metadata": {},
   "outputs": [],
   "source": [
    "def arch_1(d, k, l):\n",
    "    ghh1 = GHH(d,1,k)\n",
    "    res = ghh1(d)\n",
    "    \n",
    "    for i in range(l-1):\n",
    "        ghh = GHH(d,1,k)\n",
    "        res = res.clone()\n",
    "        res = ghh(res)\n",
    "        \n",
    "    output = res.clone()\n",
    "    return output"
   ]
  },
  {
   "cell_type": "code",
   "execution_count": 123,
   "id": "unlike-affairs",
   "metadata": {},
   "outputs": [],
   "source": [
    "def nb_region_arch1(ls, n_iter, window_size, nb, save_name1, save_name2, save_name):\n",
    "    avg_nbs = []\n",
    "    stds = []\n",
    "    for l in ls:\n",
    "        stats = torch.empty(n_iter, 1)\n",
    "        size_prev = np.array([])\n",
    "        \n",
    "        for i in range(n_iter):\n",
    "            d = torch.linspace(-1*window_size, window_size, nb)\n",
    "            d = d.reshape(-1, 1)\n",
    "            d.requires_grad_(True)\n",
    "            output = arch_1(d, 3, l)\n",
    "            output.backward(torch.ones_like(output))\n",
    "            grad = d.grad.numpy().reshape(-1)\n",
    "            \n",
    "            stats[i,0] = len(set(grad))\n",
    "            grad_value = np.unique(grad)\n",
    "            sizes = np.empty(grad_value.shape)\n",
    "            \n",
    "            for j in range(len(grad_value)):\n",
    "                g = grad_value[j]\n",
    "                sizes[j] = np.sum(grad==g)\n",
    "                \n",
    "            region_size = np.hstack((size_prev, sizes))\n",
    "            size_prev = sizes\n",
    "        avg_nb = stats.mean(axis = 0)[0].item()\n",
    "        std = stats.std(axis = 0)[0].item()\n",
    "        avg_nbs.append(avg_nb)\n",
    "        stds.append(std)\n",
    "        np.save(save_name, region_size)\n",
    "        print(f'{l}, finished.')\n",
    "    # save the result\n",
    "    avg_nbs_tosave = np.array(avg_nbs)\n",
    "    stds_tosave = np.array(stds)\n",
    "    np.save(save_name1, avg_nbs_tosave)\n",
    "    np.save(save_name2, stds_tosave)\n",
    "    return avg_nbs, stds, region_size"
   ]
  },
  {
   "cell_type": "code",
   "execution_count": 124,
   "id": "roman-trailer",
   "metadata": {},
   "outputs": [],
   "source": [
    "def size_region(l, n_iter, window_size, nb, save_name):\n",
    "    size_prev = np.array([])\n",
    "    for i in range(n_iter):\n",
    "        d = torch.linspace(-1*window_size, window_size, nb)\n",
    "        d = d.reshape(-1, 1)\n",
    "        d.requires_grad_(True)\n",
    "        output = arch_1(d, 3, l)\n",
    "        output.backward(torch.ones_like(output))\n",
    "        grad = d.grad.numpy().reshape(-1)\n",
    "\n",
    "        grad_value = np.unique(grad)\n",
    "        sizes = np.empty(grad_value.shape)\n",
    "            \n",
    "        for j in range(len(grad_value)):\n",
    "            g = grad_value[j]\n",
    "            sizes[j] = np.sum(grad==g)\n",
    "                \n",
    "        region_size = np.hstack((size_prev, sizes))\n",
    "        size_prev = region_size\n",
    "        \n",
    "        \n",
    "    np.save(save_name, region_size)\n",
    "    \n",
    "    return region_size"
   ]
  },
  {
   "cell_type": "code",
   "execution_count": 72,
   "id": "mediterranean-channels",
   "metadata": {},
   "outputs": [],
   "source": [
    "ls = 100\n",
    "n_iter = 10000\n",
    "window_size = 40\n",
    "nb = 8001\n",
    "save_name = 'W10/data/dist_size_region_L100_stepsize001.npy'"
   ]
  },
  {
   "cell_type": "code",
   "execution_count": 73,
   "id": "leading-architecture",
   "metadata": {},
   "outputs": [],
   "source": [
    "region_size = size_region(ls, n_iter, window_size, nb, save_name)"
   ]
  },
  {
   "cell_type": "code",
   "execution_count": 75,
   "id": "optional-works",
   "metadata": {},
   "outputs": [],
   "source": [
    "ls = 100\n",
    "n_iter = 10000\n",
    "window_size = 40\n",
    "nb = 80001\n",
    "save_name = 'W10/data/dist_size_region_L100_stepsize0001.npy'"
   ]
  },
  {
   "cell_type": "code",
   "execution_count": 76,
   "id": "intermediate-broad",
   "metadata": {},
   "outputs": [],
   "source": [
    "region_size = size_region(ls, n_iter, window_size, nb, save_name)"
   ]
  },
  {
   "cell_type": "code",
   "execution_count": 77,
   "id": "amino-fabric",
   "metadata": {},
   "outputs": [],
   "source": [
    "ls = 80\n",
    "n_iter = 10000\n",
    "window_size = 40\n",
    "nb = 80001\n",
    "save_name = 'W10/data/dist_size_region_L80_stepsize0001.npy'"
   ]
  },
  {
   "cell_type": "code",
   "execution_count": 78,
   "id": "offensive-polyester",
   "metadata": {},
   "outputs": [],
   "source": [
    "region_size = size_region(ls, n_iter, window_size, nb, save_name)"
   ]
  },
  {
   "cell_type": "code",
   "execution_count": 125,
   "id": "fundamental-pasta",
   "metadata": {},
   "outputs": [],
   "source": [
    "ls = 40\n",
    "n_iter = 10000\n",
    "window_size = 40\n",
    "nb = 80001\n",
    "save_name = 'W10/data/dist_size_region_L40_stepsize0001.npy'"
   ]
  },
  {
   "cell_type": "code",
   "execution_count": 126,
   "id": "bizarre-management",
   "metadata": {},
   "outputs": [
    {
     "ename": "RuntimeError",
     "evalue": "[enforce fail at ..\\c10\\core\\CPUAllocator.cpp:73] data. DefaultCPUAllocator: not enough memory: you tried to allocate 1920024 bytes. Buy new RAM!",
     "output_type": "error",
     "traceback": [
      "\u001b[1;31m---------------------------------------------------------------------------\u001b[0m",
      "\u001b[1;31mRuntimeError\u001b[0m                              Traceback (most recent call last)",
      "\u001b[1;32m<ipython-input-126-4fda0933ebd1>\u001b[0m in \u001b[0;36m<module>\u001b[1;34m\u001b[0m\n\u001b[1;32m----> 1\u001b[1;33m \u001b[0mregion_size\u001b[0m \u001b[1;33m=\u001b[0m \u001b[0msize_region\u001b[0m\u001b[1;33m(\u001b[0m\u001b[0mls\u001b[0m\u001b[1;33m,\u001b[0m \u001b[0mn_iter\u001b[0m\u001b[1;33m,\u001b[0m \u001b[0mwindow_size\u001b[0m\u001b[1;33m,\u001b[0m \u001b[0mnb\u001b[0m\u001b[1;33m,\u001b[0m \u001b[0msave_name\u001b[0m\u001b[1;33m)\u001b[0m\u001b[1;33m\u001b[0m\u001b[1;33m\u001b[0m\u001b[0m\n\u001b[0m",
      "\u001b[1;32m<ipython-input-124-b412145f76cf>\u001b[0m in \u001b[0;36msize_region\u001b[1;34m(l, n_iter, window_size, nb, save_name)\u001b[0m\n\u001b[0;32m      5\u001b[0m         \u001b[0md\u001b[0m \u001b[1;33m=\u001b[0m \u001b[0md\u001b[0m\u001b[1;33m.\u001b[0m\u001b[0mreshape\u001b[0m\u001b[1;33m(\u001b[0m\u001b[1;33m-\u001b[0m\u001b[1;36m1\u001b[0m\u001b[1;33m,\u001b[0m \u001b[1;36m1\u001b[0m\u001b[1;33m)\u001b[0m\u001b[1;33m\u001b[0m\u001b[1;33m\u001b[0m\u001b[0m\n\u001b[0;32m      6\u001b[0m         \u001b[0md\u001b[0m\u001b[1;33m.\u001b[0m\u001b[0mrequires_grad_\u001b[0m\u001b[1;33m(\u001b[0m\u001b[1;32mTrue\u001b[0m\u001b[1;33m)\u001b[0m\u001b[1;33m\u001b[0m\u001b[1;33m\u001b[0m\u001b[0m\n\u001b[1;32m----> 7\u001b[1;33m         \u001b[0moutput\u001b[0m \u001b[1;33m=\u001b[0m \u001b[0march_1\u001b[0m\u001b[1;33m(\u001b[0m\u001b[0md\u001b[0m\u001b[1;33m,\u001b[0m \u001b[1;36m3\u001b[0m\u001b[1;33m,\u001b[0m \u001b[0ml\u001b[0m\u001b[1;33m)\u001b[0m\u001b[1;33m\u001b[0m\u001b[1;33m\u001b[0m\u001b[0m\n\u001b[0m\u001b[0;32m      8\u001b[0m         \u001b[0moutput\u001b[0m\u001b[1;33m.\u001b[0m\u001b[0mbackward\u001b[0m\u001b[1;33m(\u001b[0m\u001b[0mtorch\u001b[0m\u001b[1;33m.\u001b[0m\u001b[0mones_like\u001b[0m\u001b[1;33m(\u001b[0m\u001b[0moutput\u001b[0m\u001b[1;33m)\u001b[0m\u001b[1;33m)\u001b[0m\u001b[1;33m\u001b[0m\u001b[1;33m\u001b[0m\u001b[0m\n\u001b[0;32m      9\u001b[0m         \u001b[0mgrad\u001b[0m \u001b[1;33m=\u001b[0m \u001b[0md\u001b[0m\u001b[1;33m.\u001b[0m\u001b[0mgrad\u001b[0m\u001b[1;33m.\u001b[0m\u001b[0mnumpy\u001b[0m\u001b[1;33m(\u001b[0m\u001b[1;33m)\u001b[0m\u001b[1;33m.\u001b[0m\u001b[0mreshape\u001b[0m\u001b[1;33m(\u001b[0m\u001b[1;33m-\u001b[0m\u001b[1;36m1\u001b[0m\u001b[1;33m)\u001b[0m\u001b[1;33m\u001b[0m\u001b[1;33m\u001b[0m\u001b[0m\n",
      "\u001b[1;32m<ipython-input-122-a9777eea13ab>\u001b[0m in \u001b[0;36march_1\u001b[1;34m(d, k, l)\u001b[0m\n\u001b[0;32m      6\u001b[0m         \u001b[0mghh\u001b[0m \u001b[1;33m=\u001b[0m \u001b[0mGHH\u001b[0m\u001b[1;33m(\u001b[0m\u001b[0md\u001b[0m\u001b[1;33m,\u001b[0m\u001b[1;36m1\u001b[0m\u001b[1;33m,\u001b[0m\u001b[0mk\u001b[0m\u001b[1;33m)\u001b[0m\u001b[1;33m\u001b[0m\u001b[1;33m\u001b[0m\u001b[0m\n\u001b[0;32m      7\u001b[0m         \u001b[0mres\u001b[0m \u001b[1;33m=\u001b[0m \u001b[0mres\u001b[0m\u001b[1;33m.\u001b[0m\u001b[0mclone\u001b[0m\u001b[1;33m(\u001b[0m\u001b[1;33m)\u001b[0m\u001b[1;33m\u001b[0m\u001b[1;33m\u001b[0m\u001b[0m\n\u001b[1;32m----> 8\u001b[1;33m         \u001b[0mres\u001b[0m \u001b[1;33m=\u001b[0m \u001b[0mghh\u001b[0m\u001b[1;33m(\u001b[0m\u001b[0mres\u001b[0m\u001b[1;33m)\u001b[0m\u001b[1;33m\u001b[0m\u001b[1;33m\u001b[0m\u001b[0m\n\u001b[0m\u001b[0;32m      9\u001b[0m \u001b[1;33m\u001b[0m\u001b[0m\n\u001b[0;32m     10\u001b[0m     \u001b[0moutput\u001b[0m \u001b[1;33m=\u001b[0m \u001b[0mres\u001b[0m\u001b[1;33m.\u001b[0m\u001b[0mclone\u001b[0m\u001b[1;33m(\u001b[0m\u001b[1;33m)\u001b[0m\u001b[1;33m\u001b[0m\u001b[1;33m\u001b[0m\u001b[0m\n",
      "\u001b[1;32mD:\\Anaconda3\\envs\\work\\lib\\site-packages\\torch\\nn\\modules\\module.py\u001b[0m in \u001b[0;36m_call_impl\u001b[1;34m(self, *input, **kwargs)\u001b[0m\n\u001b[0;32m    725\u001b[0m             \u001b[0mresult\u001b[0m \u001b[1;33m=\u001b[0m \u001b[0mself\u001b[0m\u001b[1;33m.\u001b[0m\u001b[0m_slow_forward\u001b[0m\u001b[1;33m(\u001b[0m\u001b[1;33m*\u001b[0m\u001b[0minput\u001b[0m\u001b[1;33m,\u001b[0m \u001b[1;33m**\u001b[0m\u001b[0mkwargs\u001b[0m\u001b[1;33m)\u001b[0m\u001b[1;33m\u001b[0m\u001b[1;33m\u001b[0m\u001b[0m\n\u001b[0;32m    726\u001b[0m         \u001b[1;32melse\u001b[0m\u001b[1;33m:\u001b[0m\u001b[1;33m\u001b[0m\u001b[1;33m\u001b[0m\u001b[0m\n\u001b[1;32m--> 727\u001b[1;33m             \u001b[0mresult\u001b[0m \u001b[1;33m=\u001b[0m \u001b[0mself\u001b[0m\u001b[1;33m.\u001b[0m\u001b[0mforward\u001b[0m\u001b[1;33m(\u001b[0m\u001b[1;33m*\u001b[0m\u001b[0minput\u001b[0m\u001b[1;33m,\u001b[0m \u001b[1;33m**\u001b[0m\u001b[0mkwargs\u001b[0m\u001b[1;33m)\u001b[0m\u001b[1;33m\u001b[0m\u001b[1;33m\u001b[0m\u001b[0m\n\u001b[0m\u001b[0;32m    728\u001b[0m         for hook in itertools.chain(\n\u001b[0;32m    729\u001b[0m                 \u001b[0m_global_forward_hooks\u001b[0m\u001b[1;33m.\u001b[0m\u001b[0mvalues\u001b[0m\u001b[1;33m(\u001b[0m\u001b[1;33m)\u001b[0m\u001b[1;33m,\u001b[0m\u001b[1;33m\u001b[0m\u001b[1;33m\u001b[0m\u001b[0m\n",
      "\u001b[1;32m~\\Desktop\\PROJ_1\\CPLF\\model.py\u001b[0m in \u001b[0;36mforward\u001b[1;34m(self, x)\u001b[0m\n\u001b[0;32m     27\u001b[0m \u001b[1;33m\u001b[0m\u001b[0m\n\u001b[0;32m     28\u001b[0m     \u001b[1;32mdef\u001b[0m \u001b[0mforward\u001b[0m\u001b[1;33m(\u001b[0m\u001b[0mself\u001b[0m\u001b[1;33m,\u001b[0m\u001b[0mx\u001b[0m\u001b[1;33m)\u001b[0m\u001b[1;33m:\u001b[0m\u001b[1;33m\u001b[0m\u001b[1;33m\u001b[0m\u001b[0m\n\u001b[1;32m---> 29\u001b[1;33m         \u001b[0moutput\u001b[0m \u001b[1;33m=\u001b[0m \u001b[0mself\u001b[0m\u001b[1;33m.\u001b[0m\u001b[0mlayer\u001b[0m\u001b[1;33m(\u001b[0m\u001b[0mx\u001b[0m\u001b[1;33m)\u001b[0m\u001b[1;33m\u001b[0m\u001b[1;33m\u001b[0m\u001b[0m\n\u001b[0m\u001b[0;32m     30\u001b[0m         \u001b[0moutput\u001b[0m \u001b[1;33m=\u001b[0m \u001b[0mself\u001b[0m\u001b[1;33m.\u001b[0m\u001b[0mres1\u001b[0m\u001b[1;33m(\u001b[0m\u001b[0moutput\u001b[0m\u001b[1;33m)\u001b[0m\u001b[1;33m\u001b[0m\u001b[1;33m\u001b[0m\u001b[0m\n\u001b[0;32m     31\u001b[0m         \u001b[0moutput\u001b[0m \u001b[1;33m=\u001b[0m \u001b[0mself\u001b[0m\u001b[1;33m.\u001b[0m\u001b[0mmaxout\u001b[0m\u001b[1;33m(\u001b[0m\u001b[0moutput\u001b[0m\u001b[1;33m)\u001b[0m\u001b[1;33m\u001b[0m\u001b[1;33m\u001b[0m\u001b[0m\n",
      "\u001b[1;32mD:\\Anaconda3\\envs\\work\\lib\\site-packages\\torch\\nn\\modules\\module.py\u001b[0m in \u001b[0;36m_call_impl\u001b[1;34m(self, *input, **kwargs)\u001b[0m\n\u001b[0;32m    725\u001b[0m             \u001b[0mresult\u001b[0m \u001b[1;33m=\u001b[0m \u001b[0mself\u001b[0m\u001b[1;33m.\u001b[0m\u001b[0m_slow_forward\u001b[0m\u001b[1;33m(\u001b[0m\u001b[1;33m*\u001b[0m\u001b[0minput\u001b[0m\u001b[1;33m,\u001b[0m \u001b[1;33m**\u001b[0m\u001b[0mkwargs\u001b[0m\u001b[1;33m)\u001b[0m\u001b[1;33m\u001b[0m\u001b[1;33m\u001b[0m\u001b[0m\n\u001b[0;32m    726\u001b[0m         \u001b[1;32melse\u001b[0m\u001b[1;33m:\u001b[0m\u001b[1;33m\u001b[0m\u001b[1;33m\u001b[0m\u001b[0m\n\u001b[1;32m--> 727\u001b[1;33m             \u001b[0mresult\u001b[0m \u001b[1;33m=\u001b[0m \u001b[0mself\u001b[0m\u001b[1;33m.\u001b[0m\u001b[0mforward\u001b[0m\u001b[1;33m(\u001b[0m\u001b[1;33m*\u001b[0m\u001b[0minput\u001b[0m\u001b[1;33m,\u001b[0m \u001b[1;33m**\u001b[0m\u001b[0mkwargs\u001b[0m\u001b[1;33m)\u001b[0m\u001b[1;33m\u001b[0m\u001b[1;33m\u001b[0m\u001b[0m\n\u001b[0m\u001b[0;32m    728\u001b[0m         for hook in itertools.chain(\n\u001b[0;32m    729\u001b[0m                 \u001b[0m_global_forward_hooks\u001b[0m\u001b[1;33m.\u001b[0m\u001b[0mvalues\u001b[0m\u001b[1;33m(\u001b[0m\u001b[1;33m)\u001b[0m\u001b[1;33m,\u001b[0m\u001b[1;33m\u001b[0m\u001b[1;33m\u001b[0m\u001b[0m\n",
      "\u001b[1;32mD:\\Anaconda3\\envs\\work\\lib\\site-packages\\torch\\nn\\modules\\linear.py\u001b[0m in \u001b[0;36mforward\u001b[1;34m(self, input)\u001b[0m\n\u001b[0;32m     91\u001b[0m \u001b[1;33m\u001b[0m\u001b[0m\n\u001b[0;32m     92\u001b[0m     \u001b[1;32mdef\u001b[0m \u001b[0mforward\u001b[0m\u001b[1;33m(\u001b[0m\u001b[0mself\u001b[0m\u001b[1;33m,\u001b[0m \u001b[0minput\u001b[0m\u001b[1;33m:\u001b[0m \u001b[0mTensor\u001b[0m\u001b[1;33m)\u001b[0m \u001b[1;33m->\u001b[0m \u001b[0mTensor\u001b[0m\u001b[1;33m:\u001b[0m\u001b[1;33m\u001b[0m\u001b[1;33m\u001b[0m\u001b[0m\n\u001b[1;32m---> 93\u001b[1;33m         \u001b[1;32mreturn\u001b[0m \u001b[0mF\u001b[0m\u001b[1;33m.\u001b[0m\u001b[0mlinear\u001b[0m\u001b[1;33m(\u001b[0m\u001b[0minput\u001b[0m\u001b[1;33m,\u001b[0m \u001b[0mself\u001b[0m\u001b[1;33m.\u001b[0m\u001b[0mweight\u001b[0m\u001b[1;33m,\u001b[0m \u001b[0mself\u001b[0m\u001b[1;33m.\u001b[0m\u001b[0mbias\u001b[0m\u001b[1;33m)\u001b[0m\u001b[1;33m\u001b[0m\u001b[1;33m\u001b[0m\u001b[0m\n\u001b[0m\u001b[0;32m     94\u001b[0m \u001b[1;33m\u001b[0m\u001b[0m\n\u001b[0;32m     95\u001b[0m     \u001b[1;32mdef\u001b[0m \u001b[0mextra_repr\u001b[0m\u001b[1;33m(\u001b[0m\u001b[0mself\u001b[0m\u001b[1;33m)\u001b[0m \u001b[1;33m->\u001b[0m \u001b[0mstr\u001b[0m\u001b[1;33m:\u001b[0m\u001b[1;33m\u001b[0m\u001b[1;33m\u001b[0m\u001b[0m\n",
      "\u001b[1;32mD:\\Anaconda3\\envs\\work\\lib\\site-packages\\torch\\nn\\functional.py\u001b[0m in \u001b[0;36mlinear\u001b[1;34m(input, weight, bias)\u001b[0m\n\u001b[0;32m   1688\u001b[0m     \u001b[1;32mif\u001b[0m \u001b[0minput\u001b[0m\u001b[1;33m.\u001b[0m\u001b[0mdim\u001b[0m\u001b[1;33m(\u001b[0m\u001b[1;33m)\u001b[0m \u001b[1;33m==\u001b[0m \u001b[1;36m2\u001b[0m \u001b[1;32mand\u001b[0m \u001b[0mbias\u001b[0m \u001b[1;32mis\u001b[0m \u001b[1;32mnot\u001b[0m \u001b[1;32mNone\u001b[0m\u001b[1;33m:\u001b[0m\u001b[1;33m\u001b[0m\u001b[1;33m\u001b[0m\u001b[0m\n\u001b[0;32m   1689\u001b[0m         \u001b[1;31m# fused op is marginally faster\u001b[0m\u001b[1;33m\u001b[0m\u001b[1;33m\u001b[0m\u001b[1;33m\u001b[0m\u001b[0m\n\u001b[1;32m-> 1690\u001b[1;33m         \u001b[0mret\u001b[0m \u001b[1;33m=\u001b[0m \u001b[0mtorch\u001b[0m\u001b[1;33m.\u001b[0m\u001b[0maddmm\u001b[0m\u001b[1;33m(\u001b[0m\u001b[0mbias\u001b[0m\u001b[1;33m,\u001b[0m \u001b[0minput\u001b[0m\u001b[1;33m,\u001b[0m \u001b[0mweight\u001b[0m\u001b[1;33m.\u001b[0m\u001b[0mt\u001b[0m\u001b[1;33m(\u001b[0m\u001b[1;33m)\u001b[0m\u001b[1;33m)\u001b[0m\u001b[1;33m\u001b[0m\u001b[1;33m\u001b[0m\u001b[0m\n\u001b[0m\u001b[0;32m   1691\u001b[0m     \u001b[1;32melse\u001b[0m\u001b[1;33m:\u001b[0m\u001b[1;33m\u001b[0m\u001b[1;33m\u001b[0m\u001b[0m\n\u001b[0;32m   1692\u001b[0m         \u001b[0moutput\u001b[0m \u001b[1;33m=\u001b[0m \u001b[0minput\u001b[0m\u001b[1;33m.\u001b[0m\u001b[0mmatmul\u001b[0m\u001b[1;33m(\u001b[0m\u001b[0mweight\u001b[0m\u001b[1;33m.\u001b[0m\u001b[0mt\u001b[0m\u001b[1;33m(\u001b[0m\u001b[1;33m)\u001b[0m\u001b[1;33m)\u001b[0m\u001b[1;33m\u001b[0m\u001b[1;33m\u001b[0m\u001b[0m\n",
      "\u001b[1;31mRuntimeError\u001b[0m: [enforce fail at ..\\c10\\core\\CPUAllocator.cpp:73] data. DefaultCPUAllocator: not enough memory: you tried to allocate 1920024 bytes. Buy new RAM!"
     ]
    }
   ],
   "source": [
    "region_size = size_region(ls, n_iter, window_size, nb, save_name)"
   ]
  },
  {
   "cell_type": "markdown",
   "id": "hispanic-topic",
   "metadata": {},
   "source": [
    "### plot the histogram"
   ]
  },
  {
   "cell_type": "code",
   "execution_count": 6,
   "id": "robust-clinic",
   "metadata": {},
   "outputs": [],
   "source": [
    "region_size1 = np.load('W10/data/dist_size_region_L100_stepsize001.npy')\n",
    "\n",
    "region_size2 = np.load('W10/data/dist_size_region_L100_stepsize0001.npy')\n",
    "\n",
    "region_size3 = np.load('W10/data/dist_size_region_L80_stepsize0001.npy')"
   ]
  },
  {
   "cell_type": "code",
   "execution_count": 7,
   "id": "compliant-multimedia",
   "metadata": {},
   "outputs": [],
   "source": [
    "region_size1 = region_size1.ravel()\n",
    "\n",
    "region_size2 = region_size2.ravel()\n",
    "\n",
    "region_size3 = region_size3.ravel()"
   ]
  },
  {
   "cell_type": "code",
   "execution_count": 98,
   "id": "potential-nerve",
   "metadata": {},
   "outputs": [
    {
     "data": {
      "image/png": "[encoded data removed]",
      "text/plain": [
       "<Figure size 432x288 with 1 Axes>"
      ]
     },
     "metadata": {
      "needs_background": "light"
     },
     "output_type": "display_data"
    }
   ],
   "source": [
    "plt.hist(region_size1[region_size1<=1000], bins='auto') \n",
    "plt.show()"
   ]
  },
  {
   "cell_type": "code",
   "execution_count": 8,
   "id": "challenging-tutorial",
   "metadata": {},
   "outputs": [
    {
     "data": {
      "text/plain": [
       "29834"
      ]
     },
     "execution_count": 8,
     "metadata": {},
     "output_type": "execute_result"
    }
   ],
   "source": [
    "np.sum(region_size1<=10)"
   ]
  },
  {
   "cell_type": "code",
   "execution_count": 9,
   "id": "atomic-theater",
   "metadata": {},
   "outputs": [
    {
     "data": {
      "text/plain": [
       "(229174,)"
      ]
     },
     "execution_count": 9,
     "metadata": {},
     "output_type": "execute_result"
    }
   ],
   "source": [
    "region_size1.shape"
   ]
  },
  {
   "cell_type": "code",
   "execution_count": 10,
   "id": "indoor-fantasy",
   "metadata": {},
   "outputs": [
    {
     "data": {
      "text/plain": [
       "0.13018056149475943"
      ]
     },
     "execution_count": 10,
     "metadata": {},
     "output_type": "execute_result"
    }
   ],
   "source": [
    "np.sum(region_size1<=10)/region_size1.shape[0]"
   ]
  },
  {
   "cell_type": "code",
   "execution_count": 11,
   "id": "conservative-adrian",
   "metadata": {},
   "outputs": [
    {
     "data": {
      "image/png": "[encoded data removed]",
      "text/plain": [
       "<Figure size 2160x720 with 3 Axes>"
      ]
     },
     "metadata": {
      "needs_background": "light"
     },
     "output_type": "display_data"
    }
   ],
   "source": [
    "# plotting\n",
    "fig = plt.figure(figsize=(30,10))\n",
    "plt.subplot(1, 3, 1)\n",
    "plt.hist(region_size1, bins = 'auto')\n",
    "\n",
    "plt.xlabel(\"size of regions\")\n",
    "plt.ylabel(\"number of regions\")\n",
    "plt.title(\"distribution of the sizes of linear regions with stepsize 0.01, 100 layers\",fontsize=8)\n",
    "\n",
    "plt.subplot(1, 3, 2)\n",
    "plt.hist(region_size2, bins = 'auto')\n",
    "\n",
    "plt.xlabel(\"size of regions\")\n",
    "plt.ylabel(\"number of regions\")\n",
    "plt.title(\"distribution of the sizes of linear regions with stepsize 0.001, 100 layers\",fontsize=8)\n",
    "\n",
    "plt.subplot(1, 3, 3)\n",
    "plt.hist(region_size3, bins = 'auto')\n",
    "\n",
    "plt.xlabel(\"size of regions\")\n",
    "plt.ylabel(\"number of regions\")\n",
    "plt.title(\"distribution of the sizes of linear regions with stepsize 0.001, 80 layers\",fontsize=8)\n",
    "\n",
    "plt.savefig('W10/dist_size_linear_regions1.jpg')\n",
    "plt.show()"
   ]
  },
  {
   "cell_type": "code",
   "execution_count": 12,
   "id": "adjusted-trainer",
   "metadata": {},
   "outputs": [
    {
     "data": {
      "text/plain": [
       "Text(0.5, 1.0, 'distribution of the sizes of linear regions with stepsize 0.01, 100 layers')"
      ]
     },
     "execution_count": 12,
     "metadata": {},
     "output_type": "execute_result"
    },
    {
     "data": {
      "image/png": "[encoded data removed]",
      "text/plain": [
       "<Figure size 432x288 with 1 Axes>"
      ]
     },
     "metadata": {
      "needs_background": "light"
     },
     "output_type": "display_data"
    }
   ],
   "source": [
    "plt.hist(region_size1[region_size1<=2000], bins = 'auto')\n",
    "\n",
    "plt.xlabel(\"size of regions\")\n",
    "plt.ylabel(\"number of regions\")\n",
    "plt.title(\"distribution of the sizes of linear regions with stepsize 0.01, 100 layers\",fontsize=8)"
   ]
  },
  {
   "cell_type": "code",
   "execution_count": 13,
   "id": "democratic-diagnosis",
   "metadata": {},
   "outputs": [
    {
     "data": {
      "image/png": "[encoded data removed]",
      "text/plain": [
       "<Figure size 1440x720 with 2 Axes>"
      ]
     },
     "metadata": {
      "needs_background": "light"
     },
     "output_type": "display_data"
    }
   ],
   "source": [
    "fig = plt.figure(figsize=(20,10))\n",
    "\n",
    "plt.subplot(1, 2, 1)\n",
    "plt.hist(region_size2[region_size2<=20000], bins = 'auto')\n",
    "\n",
    "plt.xlabel(\"size of regions\")\n",
    "plt.ylabel(\"number of regions\")\n",
    "plt.title(\"distribution of the sizes of linear regions with stepsize 0.001, 100 layers\",fontsize=8)\n",
    "\n",
    "plt.subplot(1, 2, 2)\n",
    "plt.hist(region_size3[region_size3<=20000], bins = 'auto')\n",
    "\n",
    "plt.xlabel(\"size of regions\")\n",
    "plt.ylabel(\"number of regions\")\n",
    "plt.title(\"distribution of the sizes of linear regions with stepsize 0.001, 80 layers\",fontsize=8)\n",
    "\n",
    "plt.show()"
   ]
  },
  {
   "cell_type": "code",
   "execution_count": 14,
   "id": "israeli-neutral",
   "metadata": {},
   "outputs": [
    {
     "data": {
      "image/png": "[encoded data removed]",
      "text/plain": [
       "<Figure size 1440x720 with 2 Axes>"
      ]
     },
     "metadata": {
      "needs_background": "light"
     },
     "output_type": "display_data"
    }
   ],
   "source": [
    "fig = plt.figure(figsize=(20,10))\n",
    "\n",
    "plt.subplot(1, 2, 1)\n",
    "plt.hist(region_size2[region_size2<=5000], bins = 'auto')\n",
    "\n",
    "plt.xlabel(\"size of regions\")\n",
    "plt.ylabel(\"number of regions\")\n",
    "plt.title(\"distribution of the sizes of linear regions with stepsize 0.001, 100 layers\",fontsize=8)\n",
    "\n",
    "plt.subplot(1, 2, 2)\n",
    "plt.hist(region_size3[region_size3<=5000], bins = 'auto')\n",
    "\n",
    "plt.xlabel(\"size of regions\")\n",
    "plt.ylabel(\"number of regions\")\n",
    "plt.title(\"distribution of the sizes of linear regions with stepsize 0.001, 80 layers\",fontsize=8)\n",
    "\n",
    "plt.show()"
   ]
  },
  {
   "cell_type": "code",
   "execution_count": 15,
   "id": "authentic-found",
   "metadata": {},
   "outputs": [
    {
     "data": {
      "image/png": "[encoded data removed]",
      "text/plain": [
       "<Figure size 1440x720 with 2 Axes>"
      ]
     },
     "metadata": {
      "needs_background": "light"
     },
     "output_type": "display_data"
    }
   ],
   "source": [
    "fig = plt.figure(figsize=(20,10))\n",
    "\n",
    "plt.subplot(1, 2, 1)\n",
    "plt.hist(region_size1[region_size1<=500], bins = 'auto')\n",
    "\n",
    "plt.xlabel(\"size of regions\")\n",
    "plt.ylabel(\"number of regions\")\n",
    "plt.title(\"distribution of the sizes of linear regions with stepsize 0.01, 100 layers\",fontsize=8)\n",
    "\n",
    "plt.subplot(1, 2, 2)\n",
    "plt.hist(region_size2[region_size2<=5000], bins = 'auto')\n",
    "\n",
    "plt.xlabel(\"size of regions\")\n",
    "plt.ylabel(\"number of regions\")\n",
    "plt.title(\"distribution of the sizes of linear regions with stepsize 0.001, 100 layers\",fontsize=8)\n",
    "\n",
    "plt.show()"
   ]
  },
  {
   "cell_type": "code",
   "execution_count": 105,
   "id": "powered-valentine",
   "metadata": {},
   "outputs": [
    {
     "data": {
      "text/plain": [
       "(3764, 446, 454)"
      ]
     },
     "execution_count": 105,
     "metadata": {},
     "output_type": "execute_result"
    }
   ],
   "source": [
    "np.sum(region_size1 <=1),np.sum(region_size2 <=1),np.sum(region_size3 <=1)"
   ]
  },
  {
   "cell_type": "code",
   "execution_count": 16,
   "id": "naked-spread",
   "metadata": {},
   "outputs": [
    {
     "data": {
      "text/plain": [
       "0.01642420169827293"
      ]
     },
     "execution_count": 16,
     "metadata": {},
     "output_type": "execute_result"
    }
   ],
   "source": [
    "np.sum(region_size1<=1)/region_size1.shape[0]"
   ]
  },
  {
   "cell_type": "code",
   "execution_count": 17,
   "id": "fifteen-calculator",
   "metadata": {},
   "outputs": [
    {
     "data": {
      "text/plain": [
       "0.017547343293375175"
      ]
     },
     "execution_count": 17,
     "metadata": {},
     "output_type": "execute_result"
    }
   ],
   "source": [
    "np.sum(region_size2<=10)/region_size2.shape[0]"
   ]
  },
  {
   "cell_type": "code",
   "execution_count": 18,
   "id": "driven-wheel",
   "metadata": {},
   "outputs": [
    {
     "data": {
      "text/plain": [
       "0.017841875728658405"
      ]
     },
     "execution_count": 18,
     "metadata": {},
     "output_type": "execute_result"
    }
   ],
   "source": [
    "np.sum(region_size3<=10)/region_size3.shape[0]"
   ]
  },
  {
   "cell_type": "code",
   "execution_count": 106,
   "id": "naval-cable",
   "metadata": {},
   "outputs": [
    {
     "data": {
      "text/plain": [
       "(29834, 4065, 4132)"
      ]
     },
     "execution_count": 106,
     "metadata": {},
     "output_type": "execute_result"
    }
   ],
   "source": [
    "np.sum(region_size1 <=10),np.sum(region_size2 <=10),np.sum(region_size3 <=10)"
   ]
  },
  {
   "cell_type": "code",
   "execution_count": 107,
   "id": "surrounded-software",
   "metadata": {},
   "outputs": [
    {
     "data": {
      "text/plain": [
       "(118800, 30566, 30856)"
      ]
     },
     "execution_count": 107,
     "metadata": {},
     "output_type": "execute_result"
    }
   ],
   "source": [
    "np.sum(region_size1 <=100),np.sum(region_size2 <=100),np.sum(region_size3 <=100)"
   ]
  },
  {
   "cell_type": "code",
   "execution_count": null,
   "id": "precise-surgery",
   "metadata": {},
   "outputs": [],
   "source": [
    "np.sum()"
   ]
  }
 ],
 "metadata": {
  "kernelspec": {
   "display_name": "Python [conda env:work] *",
   "language": "python",
   "name": "conda-env-work-py"
  },
  "language_info": {
   "codemirror_mode": {
    "name": "ipython",
    "version": 3
   },
   "file_extension": ".py",
   "mimetype": "text/x-python",
   "name": "python",
   "nbconvert_exporter": "python",
   "pygments_lexer": "ipython3",
   "version": "3.7.9"
  }
 },
 "nbformat": 4,
 "nbformat_minor": 5
}
