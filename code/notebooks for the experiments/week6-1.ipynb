{
 "cells": [
  {
   "cell_type": "code",
   "execution_count": 1,
   "id": "responsible-chrome",
   "metadata": {},
   "outputs": [],
   "source": [
    "import torch\n",
    "from torch import nn\n",
    "from torch.nn import functional as F\n",
    "import collections\n",
    "import random\n",
    "import time\n",
    "import numpy as np\n",
    "import matplotlib.pyplot as plt\n",
    "%load_ext autoreload\n",
    "%autoreload 2"
   ]
  },
  {
   "cell_type": "code",
   "execution_count": 2,
   "id": "fossil-poker",
   "metadata": {},
   "outputs": [],
   "source": [
    "from grid_method import *\n",
    "from model import GHH"
   ]
  },
  {
   "cell_type": "markdown",
   "id": "sixth-handling",
   "metadata": {},
   "source": [
    "# week 6\n",
    "## take x$\\in$ $\\mathbb{R}$,\n",
    "## *f*(x) = $\\sum_{k=1}^K$"
   ]
  },
  {
   "cell_type": "code",
   "execution_count": null,
   "id": "forbidden-robinson",
   "metadata": {},
   "outputs": [],
   "source": [
    "def norm_k(x_range, y_range, k_range, stepsize, n_iter):\n",
    "    len_k_range = len(k_range)\n",
    "    nb_pixels = ((x_range[1] - x_range[0])/stepsize + 1)**2\n",
    "    result = np.zeros((len_k_range, n_iter*int(nb_pixels)))\n",
    "    for i in range(len_k_range):\n",
    "        k = k_range[i]\n",
    "        norms = np.zeros((n_iter, int(nb_pixels)))\n",
    "        for j in range(n_iter):\n",
    "            grid, l = generate_grid(x_range, y_range, stepsize)\n",
    "            grid.requires_grad_(True)\n",
    "            ghh = GHH(grid, 2, k)\n",
    "            output = ghh(grid)\n",
    "            grad_x, grad_y = compute_grad(output, grid, l)\n",
    "            norm = np.sqrt(grad_x**2 + grad_y**2)\n",
    "            norm_1d = norm.flatten()\n",
    "            norms[j] = norm_1d\n",
    "        norms_1d = norms.flatten()\n",
    "        result[i] = norms_1d\n",
    "    return result"
   ]
  },
  {
   "cell_type": "code",
   "execution_count": 21,
   "id": "italian-birth",
   "metadata": {},
   "outputs": [
    {
     "data": {
      "text/plain": [
       "torch.Size([101, 1])"
      ]
     },
     "execution_count": 21,
     "metadata": {},
     "output_type": "execute_result"
    }
   ],
   "source": [
    "d = torch.linspace(-10,10,101)\n",
    "d = torch.reshape(d, (-1,1))\n",
    "d.requires_grad_(True)\n",
    "d.shape"
   ]
  },
  {
   "cell_type": "code",
   "execution_count": 37,
   "id": "positive-yellow",
   "metadata": {},
   "outputs": [],
   "source": [
    "ghh = GHH(d, 1, 3)\n",
    "output = ghh(d)"
   ]
  },
  {
   "cell_type": "code",
   "execution_count": 38,
   "id": "suffering-animal",
   "metadata": {},
   "outputs": [],
   "source": [
    "output.backward(torch.ones_like(output))"
   ]
  },
  {
   "cell_type": "code",
   "execution_count": 25,
   "id": "reported-performer",
   "metadata": {},
   "outputs": [],
   "source": [
    "d_n = d.detach().numpy()\n",
    "output_n = output.detach().numpy()"
   ]
  },
  {
   "cell_type": "code",
   "execution_count": 26,
   "id": "magnetic-adams",
   "metadata": {},
   "outputs": [],
   "source": [
    "output_n = output_n.reshape(-1)\n",
    "d_n = d_n.reshape(-1)"
   ]
  },
  {
   "cell_type": "code",
   "execution_count": 27,
   "id": "limiting-swing",
   "metadata": {},
   "outputs": [
    {
     "data": {
      "text/plain": [
       "[<matplotlib.lines.Line2D at 0x14cbc776fc8>]"
      ]
     },
     "execution_count": 27,
     "metadata": {},
     "output_type": "execute_result"
    },
    {
     "data": {
      "image/png": "[encoded data removed]",
      "text/plain": [
       "<Figure size 432x288 with 1 Axes>"
      ]
     },
     "metadata": {
      "needs_background": "light"
     },
     "output_type": "display_data"
    }
   ],
   "source": [
    "plt.plot(d_n, output_n)"
   ]
  },
  {
   "cell_type": "markdown",
   "id": "developed-kennedy",
   "metadata": {},
   "source": [
    "### norm of the derivative"
   ]
  },
  {
   "cell_type": "code",
   "execution_count": 33,
   "id": "chronic-ordinary",
   "metadata": {},
   "outputs": [],
   "source": [
    "def norm(data):\n",
    "    mean = torch.abs(data).mean()\n",
    "    std = torch.abs(data).std()\n",
    "    return mean.item(), std.item()"
   ]
  },
  {
   "cell_type": "code",
   "execution_count": 65,
   "id": "athletic-devon",
   "metadata": {},
   "outputs": [],
   "source": [
    "def test_norm(dim, ks, n_iter):\n",
    "    avg_ms = []\n",
    "    avg_stds = []\n",
    "    for k in ks:\n",
    "        stats = torch.empty(n_iter, 2)\n",
    "        for i in range(n_iter):\n",
    "            d = torch.linspace(-10, 10, 2001)\n",
    "            d = d.reshape(-1,1)\n",
    "            d.requires_grad_(True)\n",
    "            ghh = GHH(d, dim, k)\n",
    "            output = ghh(d)\n",
    "            output.backward(torch.ones_like(output))\n",
    "            m, std = norm(d.grad)\n",
    "            stats[i,0] = m\n",
    "            stats[i,1] = std\n",
    "        avg_m = stats.mean(axis = 0)[0].item()\n",
    "        avg_std = stats.mean(axis = 0)[1].item()\n",
    "        avg_ms.append(avg_m)\n",
    "        avg_stds.append(avg_std)\n",
    "    return avg_ms, avg_stds"
   ]
  },
  {
   "cell_type": "code",
   "execution_count": 80,
   "id": "approved-custody",
   "metadata": {},
   "outputs": [],
   "source": [
    "dim = 1; ks = np.arange(1,21);\n",
    "ms, stds = test_norm(dim, ks, 10000)"
   ]
  },
  {
   "cell_type": "code",
   "execution_count": 81,
   "id": "banned-blast",
   "metadata": {},
   "outputs": [],
   "source": [
    "ms_n = np.array(ms)\n",
    "stds_n = np.array(stds)"
   ]
  },
  {
   "cell_type": "code",
   "execution_count": 79,
   "id": "maritime-exchange",
   "metadata": {},
   "outputs": [
    {
     "data": {
      "text/plain": [
       "[<matplotlib.lines.Line2D at 0x14cc385a9c8>]"
      ]
     },
     "execution_count": 79,
     "metadata": {},
     "output_type": "execute_result"
    },
    {
     "data": {
      "image/png": "[encoded data removed]",
      "text/plain": [
       "<Figure size 432x288 with 1 Axes>"
      ]
     },
     "metadata": {
      "needs_background": "light"
     },
     "output_type": "display_data"
    }
   ],
   "source": [
    "plt.plot(ks, ms_n)"
   ]
  },
  {
   "cell_type": "code",
   "execution_count": 82,
   "id": "hollow-shirt",
   "metadata": {},
   "outputs": [
    {
     "data": {
      "text/plain": [
       "[<matplotlib.lines.Line2D at 0x14cc38c8508>]"
      ]
     },
     "execution_count": 82,
     "metadata": {},
     "output_type": "execute_result"
    },
    {
     "data": {
      "image/png": "[encoded data removed]",
      "text/plain": [
       "<Figure size 432x288 with 1 Axes>"
      ]
     },
     "metadata": {
      "needs_background": "light"
     },
     "output_type": "display_data"
    }
   ],
   "source": [
    "plt.plot(ks, ms_n)"
   ]
  },
  {
   "cell_type": "code",
   "execution_count": 83,
   "id": "average-seeker",
   "metadata": {},
   "outputs": [
    {
     "data": {
      "text/plain": [
       "array([ 1,  2,  3,  4,  5,  6,  7,  8,  9, 10, 11, 12, 13, 14, 15, 16, 17,\n",
       "       18, 19])"
      ]
     },
     "execution_count": 83,
     "metadata": {},
     "output_type": "execute_result"
    }
   ],
   "source": [
    "ks"
   ]
  },
  {
   "cell_type": "code",
   "execution_count": 34,
   "id": "isolated-budapest",
   "metadata": {},
   "outputs": [],
   "source": [
    "m, std = norm(d.grad)"
   ]
  },
  {
   "cell_type": "code",
   "execution_count": 35,
   "id": "speaking-clothing",
   "metadata": {},
   "outputs": [
    {
     "data": {
      "text/plain": [
       "(0.945631206035614, 0.5069282650947571)"
      ]
     },
     "execution_count": 35,
     "metadata": {},
     "output_type": "execute_result"
    }
   ],
   "source": [
    "m,std"
   ]
  },
  {
   "cell_type": "code",
   "execution_count": 40,
   "id": "exposed-belize",
   "metadata": {},
   "outputs": [
    {
     "data": {
      "text/plain": [
       "Parameter containing:\n",
       "tensor([[-0.3218],\n",
       "        [-0.2939],\n",
       "        [-0.4433],\n",
       "        [-0.1213],\n",
       "        [ 0.7152],\n",
       "        [ 0.1670]], requires_grad=True)"
      ]
     },
     "execution_count": 40,
     "metadata": {},
     "output_type": "execute_result"
    }
   ],
   "source": [
    "ghh.layer.weight"
   ]
  },
  {
   "cell_type": "markdown",
   "id": "steady-eclipse",
   "metadata": {},
   "source": [
    "### distribution of the chosen weight for each base function"
   ]
  },
  {
   "cell_type": "code",
   "execution_count": 118,
   "id": "broke-large",
   "metadata": {},
   "outputs": [],
   "source": [
    "class Reshape(nn.Module):\n",
    "    def __init__(self, *args):\n",
    "        super(Reshape, self).__init__()\n",
    "        self.shape = args\n",
    " \n",
    "    def forward(self, x):\n",
    "        return x.view(self.shape)"
   ]
  },
  {
   "cell_type": "code",
   "execution_count": 119,
   "id": "horizontal-orbit",
   "metadata": {},
   "outputs": [],
   "source": [
    "class grad_GHH(nn.Module):\n",
    "    def __init__(self, data, d, k):\n",
    "        super(grad_GHH, self).__init__()\n",
    "        self.layer = nn.Linear(d, (d+1)*k)\n",
    "        nn.init.uniform_(self.layer.weight,-1,1)\n",
    "        nn.init.uniform_(self.layer.bias, -1,1)\n",
    "        self.res1 = Reshape(1,data.shape[0],(d+1)*k)\n",
    "        self.maxout = nn.MaxPool1d(d+1, stride = (d+1))\n",
    "        self.res2 = Reshape(data.shape[0],k)\n",
    "        \n",
    "        \n",
    "    def forward(self,x):\n",
    "        output = self.layer(x)\n",
    "        output = self.res1(output)\n",
    "        output = self.maxout(output)\n",
    "        output = self.res2(output)\n",
    "        \n",
    "        return output\n",
    "    "
   ]
  },
  {
   "cell_type": "code",
   "execution_count": 121,
   "id": "objective-framing",
   "metadata": {},
   "outputs": [
    {
     "data": {
      "text/plain": [
       "torch.Size([101, 1])"
      ]
     },
     "execution_count": 121,
     "metadata": {},
     "output_type": "execute_result"
    }
   ],
   "source": [
    "d = torch.linspace(-10,10,101).reshape((-1,1))\n",
    "#d = torch.reshape(d, (-1,1))\n",
    "d.requires_grad_(True)\n",
    "d.shape"
   ]
  },
  {
   "cell_type": "code",
   "execution_count": 122,
   "id": "signal-surname",
   "metadata": {},
   "outputs": [],
   "source": [
    "ghh = grad_GHH(d, 1, 3)\n",
    "output = ghh(d)\n",
    "output1 = output[:,0]\n",
    "output1.backward(torch.ones_like(output1))\n",
    "alpha1 = d.grad"
   ]
  },
  {
   "cell_type": "code",
   "execution_count": 123,
   "id": "contained-reflection",
   "metadata": {},
   "outputs": [
    {
     "data": {
      "text/plain": [
       "Parameter containing:\n",
       "tensor([[-0.6591],\n",
       "        [-0.1164],\n",
       "        [ 0.5214],\n",
       "        [ 0.3026],\n",
       "        [-0.1406],\n",
       "        [ 0.7728]], requires_grad=True)"
      ]
     },
     "execution_count": 123,
     "metadata": {},
     "output_type": "execute_result"
    }
   ],
   "source": [
    "ghh.layer.weight"
   ]
  },
  {
   "cell_type": "code",
   "execution_count": 129,
   "id": "elder-engagement",
   "metadata": {},
   "outputs": [
    {
     "data": {
      "text/plain": [
       "{-0.659145, -0.11642122}"
      ]
     },
     "execution_count": 129,
     "metadata": {},
     "output_type": "execute_result"
    }
   ],
   "source": [
    "set(alpha1.numpy().flatten())"
   ]
  },
  {
   "cell_type": "code",
   "execution_count": 131,
   "id": "refined-worker",
   "metadata": {},
   "outputs": [
    {
     "data": {
      "text/plain": [
       "tensor(-0.4388)"
      ]
     },
     "execution_count": 131,
     "metadata": {},
     "output_type": "execute_result"
    }
   ],
   "source": [
    "alpha1.mean()"
   ]
  },
  {
   "cell_type": "code",
   "execution_count": 134,
   "id": "particular-apparatus",
   "metadata": {},
   "outputs": [],
   "source": [
    "d = torch.linspace(-10,10,101).reshape((-1,1))\n",
    "#d = torch.reshape(d, (-1,1))\n",
    "d.requires_grad_(True)\n",
    "output = ghh(d)\n",
    "output2 = output[:,1]\n",
    "output2.backward(torch.ones_like(output2))\n",
    "alpha2 = d.grad"
   ]
  },
  {
   "cell_type": "code",
   "execution_count": 135,
   "id": "first-windsor",
   "metadata": {},
   "outputs": [
    {
     "data": {
      "text/plain": [
       "{0.3026086, 0.52141726}"
      ]
     },
     "execution_count": 135,
     "metadata": {},
     "output_type": "execute_result"
    }
   ],
   "source": [
    "set(alpha2.numpy().flatten())"
   ]
  },
  {
   "cell_type": "code",
   "execution_count": 136,
   "id": "israeli-confusion",
   "metadata": {},
   "outputs": [
    {
     "data": {
      "text/plain": [
       "tensor(0.3763)"
      ]
     },
     "execution_count": 136,
     "metadata": {},
     "output_type": "execute_result"
    }
   ],
   "source": [
    "alpha2.mean()"
   ]
  },
  {
   "cell_type": "code",
   "execution_count": 150,
   "id": "micro-tuning",
   "metadata": {},
   "outputs": [],
   "source": [
    "def chosen_weight(k):\n",
    "    d = torch.linspace(-10,10, 2001).reshape((-1,1))\n",
    "    d.requires_grad_(True)\n",
    "    ghh = grad_GHH(d, 1, k)\n",
    "    output = ghh(d)\n",
    "    o1 = output[:, 0]\n",
    "    o1.backward(torch.ones_like(o1))\n",
    "    w1 = d.grad\n",
    "    \n",
    "    d = torch.linspace(-10,10, 2001).reshape((-1,1))\n",
    "    d.requires_grad_(True)\n",
    "    output = ghh(d)\n",
    "    o2 = output[:, 1]\n",
    "    o2.backward(torch.ones_like(o2))\n",
    "    w2 = d.grad\n",
    "    \n",
    "    d = torch.linspace(-10,10, 2001).reshape((-1,1))\n",
    "    d.requires_grad_(True)\n",
    "    output = ghh(d)\n",
    "    o3 = output[:, 2]\n",
    "    o3.backward(torch.ones_like(o3))\n",
    "    w3 = d.grad\n",
    "    return w1, w2, w3"
   ]
  },
  {
   "cell_type": "code",
   "execution_count": 151,
   "id": "usual-palestine",
   "metadata": {},
   "outputs": [],
   "source": [
    "def test_chosen_weight(n_iter):\n",
    "    stats = np.empty((n_iter, 3))\n",
    "    for i in range(n_iter):\n",
    "        w1, w2, w3 = chosen_weight(3)\n",
    "        stats[i, 0] = w1.mean().item()\n",
    "        stats[i, 1] = w2.mean().item()\n",
    "        stats[i, 2] = w3.mean().item()\n",
    "    avg_w1 = stats[:, 0].mean()\n",
    "    avg_w2 = stats[:, 1].mean()\n",
    "    avg_w3 = stats[:, 2].mean()\n",
    "    \n",
    "    return avg_w1, avg_w2, avg_w3"
   ]
  },
  {
   "cell_type": "code",
   "execution_count": 158,
   "id": "popular-anthony",
   "metadata": {},
   "outputs": [],
   "source": [
    "ks = np.arange(1,21)\n",
    "\n",
    "w1, w2, w3 = test_chosen_weight(100000)"
   ]
  },
  {
   "cell_type": "code",
   "execution_count": 159,
   "id": "checked-gibraltar",
   "metadata": {},
   "outputs": [
    {
     "data": {
      "text/plain": [
       "(0.0015858801455858702, -0.0010541704279053783, -0.0004928209563229302)"
      ]
     },
     "execution_count": 159,
     "metadata": {},
     "output_type": "execute_result"
    }
   ],
   "source": [
    "w1, w2, w3"
   ]
  },
  {
   "cell_type": "code",
   "execution_count": null,
   "id": "electrical-thomson",
   "metadata": {},
   "outputs": [],
   "source": [
    "w1, w2, w3 = test_chosen_weight(100000)"
   ]
  },
  {
   "cell_type": "code",
   "execution_count": null,
   "id": "assisted-papua",
   "metadata": {},
   "outputs": [],
   "source": [
    "w1, w2, w3"
   ]
  },
  {
   "cell_type": "code",
   "execution_count": null,
   "id": "oriental-medication",
   "metadata": {},
   "outputs": [],
   "source": [
    "w1, w2, w3 = test_chosen_weight(100000)"
   ]
  },
  {
   "cell_type": "code",
   "execution_count": null,
   "id": "resident-adjustment",
   "metadata": {},
   "outputs": [],
   "source": [
    "w1, w2, w3"
   ]
  },
  {
   "cell_type": "code",
   "execution_count": 163,
   "id": "cordless-harbor",
   "metadata": {},
   "outputs": [],
   "source": [
    "def chosen_weight_2(k):\n",
    "    d = torch.linspace(-10,10, 2001).reshape((-1,1))\n",
    "    d.requires_grad_(True)\n",
    "    ghh = grad_GHH(d, 1, k)\n",
    "    output = ghh(d)\n",
    "    o1 = output[:, 0]\n",
    "    o1.backward(torch.ones_like(o1))\n",
    "    w1 = d.grad\n",
    "    \n",
    "    d = torch.linspace(-10,10, 2001).reshape((-1,1))\n",
    "    d.requires_grad_(True)\n",
    "    output = ghh(d)\n",
    "    o2 = output[:, 1]\n",
    "    o2.backward(torch.ones_like(o2))\n",
    "    w2 = d.grad\n",
    "    return w1, w2\n",
    "\n",
    "def test_chosen_weight_2(n_iter):\n",
    "    stats = np.empty((n_iter, 2))\n",
    "    for i in range(n_iter):\n",
    "        w1, w2= chosen_weight_2(2)\n",
    "        stats[i, 0] = w1.mean().item()\n",
    "        stats[i, 1] = w2.mean().item()\n",
    "    avg_w1 = stats[:, 0].mean()\n",
    "    avg_w2 = stats[:, 1].mean()\n",
    "    \n",
    "    \n",
    "    return avg_w1, avg_w2"
   ]
  },
  {
   "cell_type": "markdown",
   "id": "productive-version",
   "metadata": {},
   "source": [
    "# variation of the chosen weight"
   ]
  },
  {
   "cell_type": "code",
   "execution_count": 193,
   "id": "uniform-faith",
   "metadata": {},
   "outputs": [],
   "source": [
    "w1_1, w2_1 = test_chosen_weight_2(10)"
   ]
  },
  {
   "cell_type": "code",
   "execution_count": 194,
   "id": "harmful-silver",
   "metadata": {},
   "outputs": [
    {
     "data": {
      "text/plain": [
       "(-0.10152989606722258, 0.11101523786783218)"
      ]
     },
     "execution_count": 194,
     "metadata": {},
     "output_type": "execute_result"
    }
   ],
   "source": [
    "w1_1, w2_1"
   ]
  },
  {
   "cell_type": "code",
   "execution_count": 195,
   "id": "dedicated-religion",
   "metadata": {},
   "outputs": [],
   "source": [
    "w1_2, w2_2 = test_chosen_weight_2(100)"
   ]
  },
  {
   "cell_type": "code",
   "execution_count": 196,
   "id": "further-entertainment",
   "metadata": {},
   "outputs": [
    {
     "data": {
      "text/plain": [
       "(0.03574941172264516, -0.05285398105625063)"
      ]
     },
     "execution_count": 196,
     "metadata": {},
     "output_type": "execute_result"
    }
   ],
   "source": [
    "w1_2, w2_2"
   ]
  },
  {
   "cell_type": "code",
   "execution_count": 197,
   "id": "optional-article",
   "metadata": {},
   "outputs": [],
   "source": [
    "w1_3, w2_3 = test_chosen_weight_2(1000)"
   ]
  },
  {
   "cell_type": "code",
   "execution_count": 198,
   "id": "twenty-jonathan",
   "metadata": {},
   "outputs": [
    {
     "data": {
      "text/plain": [
       "(0.01430341588403826, -0.004590717411483638)"
      ]
     },
     "execution_count": 198,
     "metadata": {},
     "output_type": "execute_result"
    }
   ],
   "source": [
    "w1_3, w2_3"
   ]
  },
  {
   "cell_type": "code",
   "execution_count": 199,
   "id": "stretch-coach",
   "metadata": {},
   "outputs": [],
   "source": [
    "w1_4, w2_4 = test_chosen_weight_2(10000)"
   ]
  },
  {
   "cell_type": "code",
   "execution_count": 200,
   "id": "rapid-alpha",
   "metadata": {},
   "outputs": [
    {
     "data": {
      "text/plain": [
       "(-0.006151951691781869, -0.0006188259602726476)"
      ]
     },
     "execution_count": 200,
     "metadata": {},
     "output_type": "execute_result"
    }
   ],
   "source": [
    "w1_4, w2_4"
   ]
  },
  {
   "cell_type": "code",
   "execution_count": 191,
   "id": "official-quality",
   "metadata": {},
   "outputs": [],
   "source": [
    "w1_5, w2_5 = test_chosen_weight_2(100000)"
   ]
  },
  {
   "cell_type": "code",
   "execution_count": 201,
   "id": "periodic-religious",
   "metadata": {},
   "outputs": [
    {
     "data": {
      "text/plain": [
       "(0.0009631696250804998, -0.0012879563391619711)"
      ]
     },
     "execution_count": 201,
     "metadata": {},
     "output_type": "execute_result"
    }
   ],
   "source": [
    "w1_5, w2_5"
   ]
  },
  {
   "cell_type": "code",
   "execution_count": 189,
   "id": "sticky-wages",
   "metadata": {},
   "outputs": [],
   "source": [
    "w1_6, w2_6 = test_chosen_weight_2(1000000)"
   ]
  },
  {
   "cell_type": "code",
   "execution_count": 202,
   "id": "confirmed-teach",
   "metadata": {},
   "outputs": [
    {
     "data": {
      "text/plain": [
       "(-0.0002366968045835527, 0.0005379786246376407)"
      ]
     },
     "execution_count": 202,
     "metadata": {},
     "output_type": "execute_result"
    }
   ],
   "source": [
    "w1_6, w2_6"
   ]
  },
  {
   "cell_type": "code",
   "execution_count": 204,
   "id": "owned-scheme",
   "metadata": {},
   "outputs": [],
   "source": [
    "w1s = [w1_1, w1_2, w1_3, w1_4, w1_5, w1_6]\n",
    "w2s = [w2_1, w2_2, w2_3, w2_4, w2_5, w2_6]"
   ]
  },
  {
   "cell_type": "code",
   "execution_count": 205,
   "id": "english-serum",
   "metadata": {},
   "outputs": [],
   "source": [
    "n_iters = [10, 100, 1000, 10000, 100000, 1000000]"
   ]
  },
  {
   "cell_type": "code",
   "execution_count": 207,
   "id": "corresponding-spring",
   "metadata": {},
   "outputs": [
    {
     "data": {
      "image/png": "[encoded data removed]",
      "text/plain": [
       "<Figure size 576x432 with 1 Axes>"
      ]
     },
     "metadata": {
      "needs_background": "light"
     },
     "output_type": "display_data"
    }
   ],
   "source": [
    "fig = plt.figure(figsize=(8, 6))\n",
    "plt.scatter(n_iters,w1s)\n",
    "plt.plot(n_iters,w1s)\n",
    "#plt.xscale(\"log\")\n",
    "plt.xlabel(\"# of iterations\")\n",
    "plt.ylabel(\"avg. of the chosen weight\")\n",
    "plt.title(\"Avg. of the chosen weight 1 w.r.t. the number of iterations\",fontsize=25)\n",
    "plt.show()"
   ]
  },
  {
   "cell_type": "code",
   "execution_count": 2,
   "id": "injured-backing",
   "metadata": {},
   "outputs": [
    {
     "ename": "NameError",
     "evalue": "name 'plt' is not defined",
     "output_type": "error",
     "traceback": [
      "\u001b[1;31m---------------------------------------------------------------------------\u001b[0m",
      "\u001b[1;31mNameError\u001b[0m                                 Traceback (most recent call last)",
      "\u001b[1;32m<ipython-input-2-e441bb42de31>\u001b[0m in \u001b[0;36m<module>\u001b[1;34m\u001b[0m\n\u001b[1;32m----> 1\u001b[1;33m \u001b[0mfig\u001b[0m \u001b[1;33m=\u001b[0m \u001b[0mplt\u001b[0m\u001b[1;33m.\u001b[0m\u001b[0mfigure\u001b[0m\u001b[1;33m(\u001b[0m\u001b[0mfigsize\u001b[0m\u001b[1;33m=\u001b[0m\u001b[1;33m(\u001b[0m\u001b[1;36m8\u001b[0m\u001b[1;33m,\u001b[0m \u001b[1;36m6\u001b[0m\u001b[1;33m)\u001b[0m\u001b[1;33m)\u001b[0m\u001b[1;33m\u001b[0m\u001b[1;33m\u001b[0m\u001b[0m\n\u001b[0m\u001b[0;32m      2\u001b[0m \u001b[0mplt\u001b[0m\u001b[1;33m.\u001b[0m\u001b[0mscatter\u001b[0m\u001b[1;33m(\u001b[0m\u001b[0mn_iters\u001b[0m\u001b[1;33m,\u001b[0m\u001b[0mw1s\u001b[0m\u001b[1;33m)\u001b[0m\u001b[1;33m\u001b[0m\u001b[1;33m\u001b[0m\u001b[0m\n\u001b[0;32m      3\u001b[0m \u001b[0mplt\u001b[0m\u001b[1;33m.\u001b[0m\u001b[0mplot\u001b[0m\u001b[1;33m(\u001b[0m\u001b[0mn_iters\u001b[0m\u001b[1;33m,\u001b[0m\u001b[0mw1s\u001b[0m\u001b[1;33m)\u001b[0m\u001b[1;33m\u001b[0m\u001b[1;33m\u001b[0m\u001b[0m\n\u001b[0;32m      4\u001b[0m \u001b[0mplt\u001b[0m\u001b[1;33m.\u001b[0m\u001b[0maxhline\u001b[0m\u001b[1;33m(\u001b[0m\u001b[0my\u001b[0m \u001b[1;33m=\u001b[0m \u001b[1;36m0.0\u001b[0m\u001b[1;33m,\u001b[0m \u001b[0mc\u001b[0m\u001b[1;33m=\u001b[0m\u001b[1;34m\"r\"\u001b[0m\u001b[1;33m,\u001b[0m \u001b[0mls\u001b[0m\u001b[1;33m=\u001b[0m\u001b[1;34m\"--\"\u001b[0m\u001b[1;33m,\u001b[0m \u001b[0mlw\u001b[0m\u001b[1;33m=\u001b[0m\u001b[1;36m2\u001b[0m\u001b[1;33m)\u001b[0m\u001b[1;33m\u001b[0m\u001b[1;33m\u001b[0m\u001b[0m\n\u001b[0;32m      5\u001b[0m \u001b[1;31m#plt.xscale(\"log\")\u001b[0m\u001b[1;33m\u001b[0m\u001b[1;33m\u001b[0m\u001b[1;33m\u001b[0m\u001b[0m\n",
      "\u001b[1;31mNameError\u001b[0m: name 'plt' is not defined"
     ]
    }
   ],
   "source": [
    "fig = plt.figure(figsize=(8, 6))\n",
    "plt.scatter(n_iters,w1s)\n",
    "plt.plot(n_iters,w1s)\n",
    "plt.axhline(y = 0.0, c=\"r\", ls=\"--\", lw=2)\n",
    "#plt.xscale(\"log\")\n",
    "plt.xlabel(\"# of iterations\")\n",
    "plt.ylabel(\"avg. of the chosen weight\")\n",
    "plt.title(\"Avg. of the chosen weight 1 w.r.t. the number of iterations\",fontsize=25)\n",
    "plt.show()"
   ]
  },
  {
   "cell_type": "code",
   "execution_count": 1,
   "id": "prescription-tracker",
   "metadata": {},
   "outputs": [
    {
     "ename": "NameError",
     "evalue": "name 'plt' is not defined",
     "output_type": "error",
     "traceback": [
      "\u001b[1;31m---------------------------------------------------------------------------\u001b[0m",
      "\u001b[1;31mNameError\u001b[0m                                 Traceback (most recent call last)",
      "\u001b[1;32m<ipython-input-1-8f3cdf148bb1>\u001b[0m in \u001b[0;36m<module>\u001b[1;34m\u001b[0m\n\u001b[1;32m----> 1\u001b[1;33m \u001b[0mfig\u001b[0m \u001b[1;33m=\u001b[0m \u001b[0mplt\u001b[0m\u001b[1;33m.\u001b[0m\u001b[0mfigure\u001b[0m\u001b[1;33m(\u001b[0m\u001b[0mfigsize\u001b[0m\u001b[1;33m=\u001b[0m\u001b[1;33m(\u001b[0m\u001b[1;36m8\u001b[0m\u001b[1;33m,\u001b[0m \u001b[1;36m6\u001b[0m\u001b[1;33m)\u001b[0m\u001b[1;33m)\u001b[0m\u001b[1;33m\u001b[0m\u001b[1;33m\u001b[0m\u001b[0m\n\u001b[0m\u001b[0;32m      2\u001b[0m \u001b[0mplt\u001b[0m\u001b[1;33m.\u001b[0m\u001b[0mscatter\u001b[0m\u001b[1;33m(\u001b[0m\u001b[0mn_iters\u001b[0m\u001b[1;33m,\u001b[0m\u001b[0mw2s\u001b[0m\u001b[1;33m)\u001b[0m\u001b[1;33m\u001b[0m\u001b[1;33m\u001b[0m\u001b[0m\n\u001b[0;32m      3\u001b[0m \u001b[0mplt\u001b[0m\u001b[1;33m.\u001b[0m\u001b[0mplot\u001b[0m\u001b[1;33m(\u001b[0m\u001b[0mn_iters\u001b[0m\u001b[1;33m,\u001b[0m\u001b[0mw2s\u001b[0m\u001b[1;33m)\u001b[0m\u001b[1;33m\u001b[0m\u001b[1;33m\u001b[0m\u001b[0m\n\u001b[0;32m      4\u001b[0m \u001b[0mplt\u001b[0m\u001b[1;33m.\u001b[0m\u001b[0maxhline\u001b[0m\u001b[1;33m(\u001b[0m\u001b[0my\u001b[0m \u001b[1;33m=\u001b[0m \u001b[1;36m0.0\u001b[0m\u001b[1;33m,\u001b[0m \u001b[0mc\u001b[0m\u001b[1;33m=\u001b[0m\u001b[1;34m\"r\"\u001b[0m\u001b[1;33m,\u001b[0m \u001b[0mls\u001b[0m\u001b[1;33m=\u001b[0m\u001b[1;34m\"--\"\u001b[0m\u001b[1;33m,\u001b[0m \u001b[0mlw\u001b[0m\u001b[1;33m=\u001b[0m\u001b[1;36m2\u001b[0m\u001b[1;33m)\u001b[0m\u001b[1;33m\u001b[0m\u001b[1;33m\u001b[0m\u001b[0m\n\u001b[0;32m      5\u001b[0m \u001b[1;31m#plt.xscale(\"log\")\u001b[0m\u001b[1;33m\u001b[0m\u001b[1;33m\u001b[0m\u001b[1;33m\u001b[0m\u001b[0m\n",
      "\u001b[1;31mNameError\u001b[0m: name 'plt' is not defined"
     ]
    }
   ],
   "source": [
    "fig = plt.figure(figsize=(8, 6))\n",
    "plt.scatter(n_iters,w2s)\n",
    "plt.plot(n_iters,w2s)\n",
    "\n",
    "#plt.xscale(\"log\")\n",
    "plt.xlabel(\"# of iterations\")\n",
    "plt.ylabel(\"avg. of the chosen weight\")\n",
    "plt.title(\"Avg. of the chosen weight 2 w.r.t. the number of iterations\",fontsize=25)\n",
    "plt.show()"
   ]
  },
  {
   "cell_type": "code",
   "execution_count": 218,
   "id": "possible-factor",
   "metadata": {},
   "outputs": [],
   "source": [
    "def chosen_weight_dist(n_iter):\n",
    "    for i in range(n_iter):\n",
    "        w1, w2= chosen_weight_2(2)\n",
    "        if i==0:\n",
    "            w1_record = w1.numpy().transpose()\n",
    "            w2_record = w2.numpy().transpose()\n",
    "        else:\n",
    "            w1_record = np.vstack((w1_record, w1.numpy().transpose()))\n",
    "            w2_record = np.vstack((w2_record, w2.numpy().transpose()))\n",
    "    return w1_record, w2_record"
   ]
  },
  {
   "cell_type": "code",
   "execution_count": 223,
   "id": "rotary-zoning",
   "metadata": {},
   "outputs": [],
   "source": [
    "w1r, w2r = chosen_weight_dist(10000) "
   ]
  },
  {
   "cell_type": "code",
   "execution_count": 247,
   "id": "comic-flower",
   "metadata": {},
   "outputs": [],
   "source": [
    "w1r_flat = w1r.reshape(-1)"
   ]
  },
  {
   "cell_type": "code",
   "execution_count": 254,
   "id": "infinite-local",
   "metadata": {},
   "outputs": [
    {
     "data": {
      "image/png": "[encoded data removed]",
      "text/plain": [
       "<Figure size 576x432 with 1 Axes>"
      ]
     },
     "metadata": {
      "needs_background": "light"
     },
     "output_type": "display_data"
    }
   ],
   "source": [
    "fig = plt.figure(figsize=(8, 6))\n",
    "plt.hist(w1r_flat, bins = 1000)\n",
    "plt.xlabel(\"value of the chosen weights\")\n",
    "plt.ylabel(\"frequency\")\n",
    "plt.title(\"distribution of the chosen weight w1\",fontsize=25)\n",
    "plt.show()"
   ]
  },
  {
   "cell_type": "code",
   "execution_count": 255,
   "id": "medium-vegetable",
   "metadata": {},
   "outputs": [],
   "source": [
    "w2r_flat = w2r.reshape(-1)"
   ]
  },
  {
   "cell_type": "code",
   "execution_count": 256,
   "id": "judicial-integer",
   "metadata": {},
   "outputs": [
    {
     "data": {
      "image/png": "[encoded data removed]",
      "text/plain": [
       "<Figure size 576x432 with 1 Axes>"
      ]
     },
     "metadata": {
      "needs_background": "light"
     },
     "output_type": "display_data"
    }
   ],
   "source": [
    "fig = plt.figure(figsize=(8, 6))\n",
    "plt.hist(w1r_flat, bins = 1000)\n",
    "plt.xlabel(\"value of the chosen weights\")\n",
    "plt.ylabel(\"frequency\")\n",
    "plt.title(\"distribution of the chosen weight w2\",fontsize=25)\n",
    "plt.show()"
   ]
  },
  {
   "cell_type": "markdown",
   "id": "mechanical-issue",
   "metadata": {},
   "source": [
    "### The distribution of the chosen weights is still a uniform distribution between -1 and 1."
   ]
  }
 ],
 "metadata": {
  "kernelspec": {
   "display_name": "Python [conda env:work] *",
   "language": "python",
   "name": "conda-env-work-py"
  },
  "language_info": {
   "codemirror_mode": {
    "name": "ipython",
    "version": 3
   },
   "file_extension": ".py",
   "mimetype": "text/x-python",
   "name": "python",
   "nbconvert_exporter": "python",
   "pygments_lexer": "ipython3",
   "version": "3.7.9"
  }
 },
 "nbformat": 4,
 "nbformat_minor": 5
}
