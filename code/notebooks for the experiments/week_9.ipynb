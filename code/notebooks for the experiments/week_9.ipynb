{
 "cells": [
  {
   "cell_type": "code",
   "execution_count": 20,
   "id": "monetary-bachelor",
   "metadata": {},
   "outputs": [
    {
     "name": "stdout",
     "output_type": "stream",
     "text": [
      "The autoreload extension is already loaded. To reload it, use:\n",
      "  %reload_ext autoreload\n"
     ]
    }
   ],
   "source": [
    "import torch\n",
    "from torch import nn\n",
    "from torch.nn import functional as F\n",
    "import collections\n",
    "import random\n",
    "import time\n",
    "import numpy as np\n",
    "import matplotlib.pyplot as plt\n",
    "%load_ext autoreload\n",
    "%autoreload 2"
   ]
  },
  {
   "cell_type": "code",
   "execution_count": 21,
   "id": "coated-shame",
   "metadata": {},
   "outputs": [],
   "source": [
    "from grid_method import *\n",
    "from model import GHH"
   ]
  },
  {
   "cell_type": "code",
   "execution_count": 22,
   "id": "dated-connectivity",
   "metadata": {},
   "outputs": [],
   "source": [
    "def get_region_1d(grad):\n",
    "    grad_n = grad.numpy()\n",
    "    grad_n = grad_n.reshape(-1)\n",
    "    sp = grad_n.shape\n",
    "    grad_n = grad_n.astype(str)\n",
    "    _, dist = np.unique(grad_n, return_inverse = True)\n",
    "    dist = dist.reshape(sp)\n",
    "    return dist"
   ]
  },
  {
   "cell_type": "code",
   "execution_count": 23,
   "id": "separated-luther",
   "metadata": {},
   "outputs": [],
   "source": [
    "def view_1d(d, output, region):\n",
    "    d_n = d.detach().numpy().reshape(-1)\n",
    "    output_n = output.detach().numpy().reshape(-1)\n",
    "    n_region = len(set(region))\n",
    "    regions = list(set(region))\n",
    "    # choose colors\n",
    "    cmp = plt.get_cmap(\"viridis\")\n",
    "    colors = cmp(np.linspace(0,1,n_region))\n",
    "                 \n",
    "    fig = plt.figure(figsize=(14, 8))\n",
    "    \n",
    "    plt.plot(d_n,output_n)\n",
    "    for i, (r, color) in enumerate(zip(regions, colors), 1):\n",
    "        ids = np.arange(len(d_n))\n",
    "        ids_c = ids[region == r]\n",
    "        d_n_c = d_n[ids_c]\n",
    "        output_n_c = output_n[ids_c]\n",
    "        plt.scatter(d_n_c, output_n_c, s=1)\n",
    "        plt.axvspan(d_n_c[0], d_n_c[-1], facecolor=color, alpha=0.5)         \n",
    "    plt.xlabel(\"x\")\n",
    "    plt.ylabel(\"output of GHH\")\n",
    "    plt.title(\"1D visualization\",fontsize=25)\n",
    "    plt.show()"
   ]
  },
  {
   "cell_type": "code",
   "execution_count": 86,
   "id": "abandoned-skirt",
   "metadata": {},
   "outputs": [
    {
     "data": {
      "text/plain": [
       "tensor([[-20.0000],\n",
       "        [-19.9800],\n",
       "        [-19.9600],\n",
       "        ...,\n",
       "        [ 19.9600],\n",
       "        [ 19.9800],\n",
       "        [ 20.0000]], requires_grad=True)"
      ]
     },
     "execution_count": 86,
     "metadata": {},
     "output_type": "execute_result"
    }
   ],
   "source": [
    "d = torch.linspace(-20, 20, 2001)\n",
    "d = d.reshape(-1,1)\n",
    "d.requires_grad_(True)"
   ]
  },
  {
   "cell_type": "code",
   "execution_count": 87,
   "id": "scheduled-railway",
   "metadata": {},
   "outputs": [],
   "source": [
    "ghh = GHH(d,1,3)\n",
    "output = ghh(d)"
   ]
  },
  {
   "cell_type": "code",
   "execution_count": 88,
   "id": "traditional-sacrifice",
   "metadata": {},
   "outputs": [],
   "source": [
    "output.backward(torch.ones_like(output))\n",
    "\n",
    "grad = d.grad\n",
    "reg = get_region_1d(grad)"
   ]
  },
  {
   "cell_type": "code",
   "execution_count": 89,
   "id": "opposite-newton",
   "metadata": {},
   "outputs": [
    {
     "data": {
      "text/plain": [
       "{0, 1, 2, 3}"
      ]
     },
     "execution_count": 89,
     "metadata": {},
     "output_type": "execute_result"
    }
   ],
   "source": [
    "set(reg.flatten())"
   ]
  },
  {
   "cell_type": "code",
   "execution_count": 62,
   "id": "twelve-shipping",
   "metadata": {},
   "outputs": [
    {
     "data": {
      "text/plain": [
       "{tensor(-2.2560),\n",
       " tensor(-2.2560),\n",
       " tensor(-2.2560),\n",
       " tensor(-2.2560),\n",
       " tensor(-2.2560),\n",
       " tensor(-3.2436),\n",
       " tensor(-3.2436),\n",
       " tensor(-3.2611),\n",
       " tensor(-3.2611),\n",
       " tensor(-3.2611),\n",
       " tensor(-3.2611),\n",
       " tensor(-3.2611),\n",
       " tensor(-3.2611),\n",
       " tensor(-4.0229),\n",
       " tensor(-2.8615),\n",
       " tensor(-2.2560),\n",
       " tensor(-2.2560),\n",
       " tensor(-2.2560),\n",
       " tensor(-2.2560),\n",
       " tensor(-2.2560),\n",
       " tensor(-2.2560),\n",
       " tensor(-2.2560),\n",
       " tensor(-2.2560),\n",
       " tensor(-2.2560),\n",
       " tensor(-3.2436),\n",
       " tensor(-3.2436),\n",
       " tensor(-3.2611),\n",
       " tensor(-3.2611),\n",
       " tensor(-3.2611),\n",
       " tensor(-3.2611),\n",
       " tensor(-3.2611),\n",
       " tensor(-4.0229),\n",
       " tensor(-2.2560),\n",
       " tensor(-2.8615),\n",
       " tensor(-2.2560),\n",
       " tensor(-2.2560),\n",
       " tensor(-2.2560),\n",
       " tensor(-2.2560),\n",
       " tensor(-2.2560),\n",
       " tensor(-2.2560),\n",
       " tensor(-2.2560),\n",
       " tensor(-3.2436),\n",
       " tensor(-3.2436),\n",
       " tensor(-3.2611),\n",
       " tensor(-3.2611),\n",
       " tensor(-2.2560),\n",
       " tensor(-3.2611),\n",
       " tensor(-3.2611),\n",
       " tensor(-3.2611),\n",
       " tensor(-3.2611),\n",
       " tensor(-2.2560),\n",
       " tensor(-2.2560),\n",
       " tensor(-2.2560),\n",
       " tensor(-2.2560),\n",
       " tensor(-2.2560),\n",
       " tensor(-2.2560),\n",
       " tensor(-2.2560),\n",
       " tensor(-2.2560),\n",
       " tensor(-2.2560),\n",
       " tensor(-4.0229),\n",
       " tensor(-2.8615),\n",
       " tensor(-3.2611),\n",
       " tensor(-3.2436),\n",
       " tensor(-3.2436),\n",
       " tensor(-3.2611),\n",
       " tensor(-2.2560),\n",
       " tensor(-2.2560),\n",
       " tensor(-3.2611),\n",
       " tensor(-3.2611),\n",
       " tensor(-2.2560),\n",
       " tensor(-2.2560),\n",
       " tensor(-2.2560),\n",
       " tensor(-2.2560),\n",
       " tensor(-2.2560),\n",
       " tensor(-3.2611),\n",
       " tensor(-2.2560),\n",
       " tensor(-2.2560),\n",
       " tensor(-2.2560),\n",
       " tensor(-3.2611),\n",
       " tensor(-3.2611),\n",
       " tensor(-3.2436),\n",
       " tensor(-3.2436),\n",
       " tensor(-3.2611),\n",
       " tensor(-4.0229),\n",
       " tensor(-2.8615),\n",
       " tensor(-2.2560),\n",
       " tensor(-2.2560),\n",
       " tensor(-3.2611),\n",
       " tensor(-2.2560),\n",
       " tensor(-2.2560),\n",
       " tensor(-2.2560),\n",
       " tensor(-2.2560),\n",
       " tensor(-2.2560),\n",
       " tensor(-3.2611),\n",
       " tensor(-3.2611),\n",
       " tensor(-3.2611),\n",
       " tensor(-3.2436),\n",
       " tensor(-3.2436),\n",
       " tensor(-3.2611),\n",
       " tensor(-3.2611),\n",
       " tensor(-4.0229),\n",
       " tensor(-2.8615),\n",
       " tensor(-2.2560),\n",
       " tensor(-2.2560),\n",
       " tensor(-3.2611),\n",
       " tensor(-2.2560),\n",
       " tensor(-2.2560),\n",
       " tensor(-2.2560),\n",
       " tensor(-2.2560),\n",
       " tensor(-3.2611),\n",
       " tensor(-2.2560),\n",
       " tensor(-2.2560),\n",
       " tensor(-2.2560),\n",
       " tensor(-2.2560),\n",
       " tensor(-3.2611),\n",
       " tensor(-3.2436),\n",
       " tensor(-3.2436),\n",
       " tensor(-3.2611),\n",
       " tensor(-3.2611),\n",
       " tensor(-3.2611),\n",
       " tensor(-3.2611),\n",
       " tensor(-3.7608),\n",
       " tensor(-2.2560),\n",
       " tensor(-2.8615),\n",
       " tensor(-3.2611),\n",
       " tensor(-2.2560),\n",
       " tensor(-2.2560),\n",
       " tensor(-2.2560),\n",
       " tensor(-2.2560),\n",
       " tensor(-2.2560),\n",
       " tensor(-2.2560),\n",
       " tensor(-2.2560),\n",
       " tensor(-2.2560),\n",
       " tensor(-3.2436),\n",
       " tensor(-3.2611),\n",
       " tensor(-2.2560),\n",
       " tensor(-2.2560),\n",
       " tensor(-3.2436),\n",
       " tensor(-3.2436),\n",
       " tensor(-3.2611),\n",
       " tensor(-3.2611),\n",
       " tensor(-3.2611),\n",
       " tensor(-3.2611),\n",
       " tensor(-3.2611),\n",
       " tensor(-3.2611),\n",
       " tensor(-2.2560),\n",
       " tensor(-2.2560),\n",
       " tensor(-2.2560),\n",
       " tensor(-2.2560),\n",
       " tensor(-2.2560),\n",
       " tensor(-2.2560),\n",
       " tensor(-2.2560),\n",
       " tensor(-2.8615),\n",
       " tensor(-2.2560),\n",
       " tensor(-3.2436),\n",
       " tensor(-3.2436),\n",
       " tensor(-3.2611),\n",
       " tensor(-3.2611),\n",
       " tensor(-3.2611),\n",
       " tensor(-3.2611),\n",
       " tensor(-2.2560),\n",
       " tensor(-3.2611),\n",
       " tensor(-3.2611),\n",
       " tensor(-2.2560),\n",
       " tensor(-2.2560),\n",
       " tensor(-2.2560),\n",
       " tensor(-2.2560),\n",
       " tensor(-2.2560),\n",
       " tensor(-3.2611),\n",
       " tensor(-2.2560),\n",
       " tensor(-2.2560),\n",
       " tensor(-2.2560),\n",
       " tensor(-2.2560),\n",
       " tensor(-2.2560),\n",
       " tensor(-3.2611),\n",
       " tensor(-3.7608),\n",
       " tensor(-2.8615),\n",
       " tensor(-3.2611),\n",
       " tensor(-3.2436),\n",
       " tensor(-3.2436),\n",
       " tensor(-3.2611),\n",
       " tensor(-3.2611),\n",
       " tensor(-2.2560),\n",
       " tensor(-2.2560),\n",
       " tensor(-2.2560),\n",
       " tensor(-2.2560),\n",
       " tensor(-2.2560),\n",
       " tensor(-2.2560),\n",
       " tensor(-2.2560),\n",
       " tensor(-3.2611),\n",
       " tensor(-3.2611),\n",
       " tensor(-3.2611),\n",
       " tensor(-3.7608),\n",
       " tensor(-3.2611),\n",
       " tensor(-3.2436),\n",
       " tensor(-3.2436),\n",
       " tensor(-3.2611),\n",
       " tensor(-2.8615),\n",
       " tensor(-2.2560),\n",
       " tensor(-2.2560),\n",
       " tensor(-2.2560),\n",
       " tensor(-2.2560),\n",
       " tensor(-3.2611),\n",
       " tensor(-3.2611),\n",
       " tensor(-2.2560),\n",
       " tensor(-2.2560),\n",
       " tensor(-2.2560),\n",
       " tensor(-2.2560),\n",
       " tensor(-2.2560),\n",
       " tensor(-2.2560),\n",
       " tensor(-3.2611),\n",
       " tensor(-3.2611),\n",
       " tensor(-3.2611),\n",
       " tensor(-3.2611),\n",
       " tensor(-3.2611),\n",
       " tensor(-3.2436),\n",
       " tensor(-3.2436),\n",
       " tensor(-3.2611),\n",
       " tensor(-3.2611),\n",
       " tensor(-3.2611),\n",
       " tensor(-2.2560),\n",
       " tensor(-2.2560),\n",
       " tensor(-3.2611),\n",
       " tensor(-2.2560),\n",
       " tensor(-2.2560),\n",
       " tensor(-3.2611),\n",
       " tensor(-2.2560),\n",
       " tensor(-2.2560),\n",
       " tensor(-2.2560),\n",
       " tensor(-2.2560),\n",
       " tensor(-3.2611),\n",
       " tensor(-3.2611),\n",
       " tensor(-3.2436),\n",
       " tensor(-3.2436),\n",
       " tensor(-3.2611),\n",
       " tensor(-3.2611),\n",
       " tensor(-3.2611),\n",
       " tensor(-2.2560),\n",
       " tensor(-3.2611),\n",
       " tensor(-2.2560),\n",
       " tensor(-2.2560),\n",
       " tensor(-2.2560),\n",
       " tensor(-2.2560),\n",
       " tensor(-2.2560),\n",
       " tensor(-2.2560),\n",
       " tensor(-2.8615),\n",
       " tensor(-2.2560),\n",
       " tensor(-2.2560),\n",
       " tensor(-3.2436),\n",
       " tensor(-3.2436),\n",
       " tensor(-3.2611),\n",
       " tensor(-3.2611),\n",
       " tensor(-3.2611),\n",
       " tensor(-3.2611),\n",
       " tensor(-3.2611),\n",
       " tensor(-2.2560),\n",
       " tensor(-2.2560),\n",
       " tensor(-2.2560),\n",
       " tensor(-2.2560),\n",
       " tensor(-2.2560),\n",
       " tensor(-2.2560),\n",
       " tensor(-2.2560),\n",
       " tensor(-2.2560),\n",
       " tensor(-2.2560),\n",
       " tensor(-3.2611),\n",
       " tensor(-3.7608),\n",
       " tensor(-2.8615),\n",
       " tensor(-2.2560),\n",
       " tensor(-2.2560),\n",
       " tensor(-3.2611),\n",
       " tensor(-3.2436),\n",
       " tensor(-3.2436),\n",
       " tensor(-3.2611),\n",
       " tensor(-3.2611),\n",
       " tensor(-2.2560),\n",
       " tensor(-2.2560),\n",
       " tensor(-2.2560),\n",
       " tensor(-2.2560),\n",
       " tensor(-2.2560),\n",
       " tensor(-3.2611),\n",
       " tensor(-3.2611),\n",
       " tensor(-3.2611),\n",
       " tensor(-3.7608),\n",
       " tensor(-2.8615),\n",
       " tensor(-3.2611),\n",
       " tensor(-3.2436),\n",
       " tensor(-3.2436),\n",
       " tensor(-3.2611),\n",
       " tensor(-3.2611),\n",
       " tensor(-2.2560),\n",
       " tensor(-2.2560),\n",
       " tensor(-2.2560),\n",
       " tensor(-2.2560),\n",
       " tensor(-3.4400),\n",
       " tensor(-2.2560),\n",
       " tensor(-3.2611),\n",
       " tensor(-2.2560),\n",
       " tensor(-2.2560),\n",
       " tensor(-2.2560),\n",
       " tensor(-2.2560),\n",
       " tensor(-3.2611),\n",
       " tensor(-3.2611),\n",
       " tensor(-3.2611),\n",
       " tensor(-3.2611),\n",
       " tensor(-3.7608),\n",
       " tensor(-3.2436),\n",
       " tensor(-3.2436),\n",
       " tensor(-3.2611),\n",
       " tensor(-3.2611),\n",
       " tensor(-2.8615),\n",
       " tensor(-2.2560),\n",
       " tensor(-2.2560),\n",
       " tensor(-2.2560),\n",
       " tensor(-2.2560),\n",
       " tensor(-2.2560),\n",
       " tensor(-2.2560),\n",
       " tensor(-2.2560),\n",
       " tensor(-2.2560),\n",
       " tensor(-2.2560),\n",
       " tensor(-2.2560),\n",
       " tensor(-2.2560),\n",
       " tensor(-3.2611),\n",
       " tensor(-3.2611),\n",
       " tensor(-3.2611),\n",
       " tensor(-3.2611),\n",
       " tensor(-3.2436),\n",
       " tensor(-3.2436),\n",
       " tensor(-3.2611),\n",
       " tensor(-3.7608),\n",
       " tensor(-2.2560),\n",
       " tensor(-2.2560),\n",
       " tensor(-2.2560),\n",
       " tensor(-3.2611),\n",
       " tensor(-2.2560),\n",
       " tensor(-2.2560),\n",
       " tensor(-2.2560),\n",
       " tensor(-2.2560),\n",
       " tensor(-2.2560),\n",
       " tensor(-2.2560),\n",
       " tensor(-2.2560),\n",
       " tensor(-2.2560),\n",
       " tensor(-3.2611),\n",
       " tensor(-3.2611),\n",
       " tensor(-3.2436),\n",
       " tensor(-3.2436),\n",
       " tensor(-3.2611),\n",
       " tensor(-3.2611),\n",
       " tensor(-2.8615),\n",
       " tensor(-3.2611),\n",
       " tensor(-2.2560),\n",
       " tensor(-2.2560),\n",
       " tensor(-2.2560),\n",
       " tensor(-3.2611),\n",
       " tensor(-2.2560),\n",
       " tensor(-2.2560),\n",
       " tensor(-2.2560),\n",
       " tensor(-3.7608),\n",
       " tensor(-2.2560),\n",
       " tensor(-2.2560),\n",
       " tensor(-2.2560),\n",
       " tensor(-2.2560),\n",
       " tensor(-3.7608),\n",
       " tensor(-2.2560),\n",
       " tensor(-3.2611),\n",
       " tensor(-2.2560),\n",
       " tensor(-3.2611),\n",
       " tensor(-3.2436),\n",
       " tensor(-3.2436),\n",
       " tensor(-3.2611),\n",
       " tensor(-3.2611),\n",
       " tensor(-3.2611),\n",
       " tensor(-3.2611),\n",
       " tensor(-2.2560),\n",
       " tensor(-2.2560),\n",
       " tensor(-2.2560),\n",
       " tensor(-2.2560),\n",
       " tensor(-2.2560),\n",
       " tensor(-3.7608),\n",
       " tensor(-2.2560),\n",
       " tensor(-2.2560),\n",
       " tensor(-2.2560),\n",
       " tensor(-2.2560),\n",
       " tensor(-3.2611),\n",
       " tensor(-3.2611),\n",
       " tensor(-3.7608),\n",
       " tensor(-2.8615),\n",
       " tensor(-2.2560),\n",
       " tensor(-2.2560),\n",
       " tensor(-3.2436),\n",
       " tensor(-3.2436),\n",
       " tensor(-3.2611),\n",
       " tensor(-3.2611),\n",
       " tensor(-3.2611),\n",
       " tensor(-2.2560),\n",
       " tensor(-2.2560),\n",
       " tensor(-3.2611),\n",
       " tensor(-2.2560),\n",
       " tensor(-3.7608),\n",
       " tensor(-2.2560),\n",
       " tensor(-2.2560),\n",
       " tensor(-2.2560),\n",
       " tensor(-2.2560),\n",
       " tensor(-2.2560),\n",
       " tensor(-3.2611),\n",
       " tensor(-2.2560),\n",
       " tensor(-3.2611),\n",
       " tensor(-3.2611),\n",
       " tensor(-3.2611),\n",
       " tensor(-3.2611),\n",
       " tensor(-3.2611),\n",
       " tensor(-3.7608),\n",
       " tensor(-2.8615),\n",
       " tensor(-2.2560),\n",
       " tensor(-3.2436),\n",
       " tensor(-3.2436),\n",
       " tensor(-3.2611),\n",
       " tensor(-2.2560),\n",
       " tensor(-3.2611),\n",
       " tensor(-2.2560),\n",
       " tensor(-2.2560),\n",
       " tensor(-3.2611),\n",
       " tensor(-2.2560),\n",
       " tensor(-3.2611),\n",
       " tensor(-2.2560),\n",
       " tensor(-2.2560),\n",
       " tensor(-2.2560),\n",
       " tensor(-2.2560),\n",
       " tensor(-2.2560),\n",
       " tensor(-2.2560),\n",
       " tensor(-2.2560),\n",
       " tensor(-3.2611),\n",
       " tensor(-3.2611),\n",
       " tensor(-3.2611),\n",
       " tensor(-3.2611),\n",
       " tensor(-3.7608),\n",
       " tensor(-2.8615),\n",
       " tensor(-3.2436),\n",
       " tensor(-3.2436),\n",
       " tensor(-2.2560),\n",
       " tensor(-2.2560),\n",
       " tensor(-3.6649),\n",
       " tensor(-2.2560),\n",
       " tensor(-3.2611),\n",
       " tensor(-2.2560),\n",
       " tensor(-2.2560),\n",
       " tensor(-2.2560),\n",
       " tensor(-2.2560),\n",
       " tensor(-3.2611),\n",
       " tensor(-2.2560),\n",
       " tensor(-3.2611),\n",
       " tensor(-2.8615),\n",
       " tensor(-3.7608),\n",
       " tensor(-2.2560),\n",
       " tensor(-2.8615),\n",
       " tensor(-2.2560),\n",
       " tensor(-2.2560),\n",
       " tensor(-3.2611),\n",
       " tensor(-3.2611),\n",
       " tensor(-3.2611),\n",
       " tensor(-3.2436),\n",
       " tensor(-3.2436),\n",
       " tensor(-3.2611),\n",
       " tensor(-3.2611),\n",
       " tensor(-2.2560),\n",
       " tensor(-2.2560),\n",
       " tensor(-2.2560),\n",
       " tensor(-3.2611),\n",
       " tensor(-2.2560),\n",
       " tensor(-3.2611),\n",
       " tensor(-2.2560),\n",
       " tensor(-3.7608),\n",
       " tensor(-2.2560),\n",
       " tensor(-3.7608),\n",
       " tensor(-2.2560),\n",
       " tensor(-2.2560),\n",
       " tensor(-2.2560),\n",
       " tensor(-3.2611),\n",
       " tensor(-3.7608),\n",
       " tensor(-2.8615),\n",
       " tensor(-2.2560),\n",
       " tensor(-2.2560),\n",
       " tensor(-3.2611),\n",
       " tensor(-3.2611),\n",
       " tensor(-3.2436),\n",
       " tensor(-3.2436),\n",
       " tensor(-3.2611),\n",
       " tensor(-3.2611),\n",
       " tensor(-3.2611),\n",
       " tensor(-2.2560),\n",
       " tensor(-2.2560),\n",
       " tensor(-1.4388),\n",
       " tensor(-3.2611),\n",
       " tensor(-2.2560),\n",
       " tensor(-2.2560),\n",
       " tensor(-3.7608),\n",
       " tensor(-2.2560),\n",
       " tensor(-2.2560),\n",
       " tensor(-2.2560),\n",
       " tensor(-3.2436),\n",
       " tensor(-3.2436),\n",
       " tensor(-3.2611),\n",
       " tensor(-3.2611),\n",
       " tensor(-3.2611),\n",
       " tensor(-3.2611),\n",
       " tensor(-3.7608),\n",
       " tensor(-2.2560),\n",
       " tensor(-2.8615),\n",
       " tensor(-3.2611),\n",
       " tensor(-2.2560),\n",
       " tensor(-2.2560),\n",
       " tensor(-2.2560),\n",
       " tensor(-2.2560),\n",
       " tensor(-2.2560),\n",
       " tensor(-2.2560),\n",
       " tensor(-2.2560),\n",
       " tensor(-2.2560),\n",
       " tensor(-2.2560),\n",
       " tensor(-3.2611),\n",
       " tensor(-3.2436),\n",
       " tensor(-3.2436),\n",
       " tensor(-3.2611),\n",
       " tensor(-3.2611),\n",
       " tensor(-3.2611),\n",
       " tensor(-3.2611),\n",
       " tensor(-3.7608),\n",
       " tensor(-2.8615),\n",
       " tensor(-2.2560),\n",
       " tensor(-2.2560),\n",
       " tensor(-2.2560),\n",
       " tensor(-2.2560),\n",
       " tensor(-2.2560),\n",
       " tensor(-2.2560),\n",
       " tensor(-2.2560),\n",
       " tensor(-3.2436),\n",
       " tensor(-3.2436),\n",
       " tensor(-3.2611),\n",
       " tensor(-3.2611),\n",
       " tensor(-3.2611),\n",
       " tensor(-3.2611),\n",
       " tensor(-3.2611),\n",
       " tensor(-3.7608),\n",
       " tensor(-2.8615),\n",
       " tensor(-2.2560),\n",
       " tensor(-2.2560),\n",
       " tensor(-2.2560),\n",
       " tensor(-2.2560),\n",
       " tensor(-2.2560),\n",
       " tensor(-2.2560),\n",
       " tensor(-2.2560),\n",
       " tensor(-2.2560),\n",
       " tensor(-2.2560),\n",
       " tensor(-2.8615),\n",
       " tensor(-3.2436),\n",
       " tensor(-3.2436),\n",
       " tensor(-3.2611),\n",
       " tensor(-3.2611),\n",
       " tensor(-3.2611),\n",
       " tensor(-2.2560),\n",
       " tensor(-3.2611),\n",
       " tensor(-3.2611),\n",
       " tensor(-3.2611),\n",
       " tensor(-3.2611),\n",
       " tensor(-2.2560),\n",
       " tensor(-2.2560),\n",
       " tensor(-2.2560),\n",
       " tensor(-2.2560),\n",
       " tensor(-2.2560),\n",
       " tensor(-2.2560),\n",
       " tensor(-2.2560),\n",
       " tensor(-2.2560),\n",
       " tensor(-3.2611),\n",
       " tensor(-3.7608),\n",
       " tensor(-3.2436),\n",
       " tensor(-3.2436),\n",
       " tensor(-3.2611),\n",
       " tensor(-3.2611),\n",
       " tensor(-1.4388),\n",
       " tensor(-2.2560),\n",
       " tensor(-3.2611),\n",
       " tensor(-3.2611),\n",
       " tensor(-2.2560),\n",
       " tensor(-2.2560),\n",
       " tensor(-2.2560),\n",
       " tensor(-3.2611),\n",
       " tensor(-2.2560),\n",
       " tensor(-2.2560),\n",
       " tensor(-2.2560),\n",
       " tensor(-2.2560),\n",
       " tensor(-3.2611),\n",
       " tensor(-3.2611),\n",
       " tensor(-3.2436),\n",
       " tensor(-3.2436),\n",
       " tensor(-3.2611),\n",
       " tensor(-3.2611),\n",
       " tensor(-3.2611),\n",
       " tensor(-3.7608),\n",
       " tensor(-1.4388),\n",
       " tensor(-2.2560),\n",
       " tensor(-2.2560),\n",
       " tensor(-2.2560),\n",
       " tensor(-2.2560),\n",
       " tensor(-2.2560),\n",
       " tensor(-2.2560),\n",
       " tensor(-2.2560),\n",
       " tensor(-2.2560),\n",
       " tensor(-2.2560),\n",
       " tensor(-2.2560),\n",
       " tensor(-3.2611),\n",
       " tensor(-3.2436),\n",
       " tensor(-3.2436),\n",
       " tensor(-3.2611),\n",
       " tensor(-3.2611),\n",
       " tensor(-3.2611),\n",
       " tensor(-3.2611),\n",
       " tensor(-1.4388),\n",
       " tensor(-3.2611),\n",
       " tensor(-2.2560),\n",
       " tensor(-2.2560),\n",
       " tensor(-2.2560),\n",
       " tensor(-2.2560),\n",
       " tensor(-2.2560),\n",
       " tensor(-2.2560),\n",
       " tensor(-2.2560),\n",
       " tensor(-3.2611),\n",
       " tensor(-3.2611),\n",
       " tensor(-3.2436),\n",
       " tensor(-3.2436),\n",
       " tensor(-3.2611),\n",
       " tensor(-3.2611),\n",
       " tensor(-3.2611),\n",
       " tensor(-3.2611),\n",
       " tensor(-3.2611),\n",
       " tensor(-3.2611),\n",
       " tensor(-2.2560),\n",
       " tensor(-2.2560),\n",
       " tensor(-2.2560),\n",
       " tensor(-2.2560),\n",
       " tensor(-2.2560),\n",
       " tensor(-2.2560),\n",
       " tensor(-2.2560),\n",
       " tensor(-2.2560),\n",
       " tensor(-1.4388),\n",
       " tensor(-2.2560),\n",
       " tensor(-3.2611),\n",
       " tensor(-3.2436),\n",
       " tensor(-3.2436),\n",
       " tensor(-3.2611),\n",
       " tensor(-3.2611),\n",
       " tensor(-3.2611),\n",
       " tensor(-3.2611),\n",
       " tensor(-3.2611),\n",
       " tensor(-2.2560),\n",
       " tensor(-2.2560),\n",
       " tensor(-2.2560),\n",
       " tensor(-2.2560),\n",
       " tensor(-2.2560),\n",
       " tensor(-2.2560),\n",
       " tensor(-2.2560),\n",
       " tensor(-2.2560),\n",
       " tensor(-2.2560),\n",
       " tensor(-3.7608),\n",
       " tensor(-1.4388),\n",
       " tensor(-2.2560),\n",
       " tensor(-3.2436),\n",
       " tensor(-3.2436),\n",
       " tensor(-3.2611),\n",
       " tensor(-3.2611),\n",
       " tensor(-3.2611),\n",
       " tensor(-3.2611),\n",
       " tensor(-3.2611),\n",
       " tensor(-2.2560),\n",
       " tensor(-2.2560),\n",
       " tensor(-2.2560),\n",
       " tensor(-3.2611),\n",
       " tensor(-2.2560),\n",
       " tensor(-2.2560),\n",
       " tensor(-2.2560),\n",
       " tensor(-3.2611),\n",
       " tensor(-3.2611),\n",
       " tensor(-3.7608),\n",
       " tensor(-3.2436),\n",
       " tensor(-3.2436),\n",
       " tensor(-3.2611),\n",
       " tensor(-3.2611),\n",
       " tensor(-3.2611),\n",
       " tensor(-1.4388),\n",
       " tensor(-2.2560),\n",
       " tensor(-2.2560),\n",
       " tensor(-2.2560),\n",
       " tensor(-2.2560),\n",
       " tensor(-2.2560),\n",
       " tensor(-2.2560),\n",
       " tensor(-2.2560),\n",
       " tensor(-3.2611),\n",
       " tensor(-2.2560),\n",
       " tensor(-2.2560),\n",
       " tensor(-2.2560),\n",
       " tensor(-3.2611),\n",
       " tensor(-3.2611),\n",
       " tensor(-3.2611),\n",
       " tensor(-3.2611),\n",
       " tensor(-3.2611),\n",
       " tensor(-3.2436),\n",
       " tensor(-3.2436),\n",
       " tensor(-3.2436),\n",
       " tensor(-3.2611),\n",
       " tensor(-3.7608),\n",
       " tensor(-2.2560),\n",
       " tensor(-2.2560),\n",
       " tensor(-2.2560),\n",
       " tensor(-2.2560),\n",
       " tensor(-2.2560),\n",
       " tensor(-3.2611),\n",
       " tensor(-3.2611),\n",
       " tensor(-3.2611),\n",
       " tensor(-3.2611),\n",
       " tensor(-3.2436),\n",
       " tensor(-3.2436),\n",
       " tensor(-3.2436),\n",
       " tensor(-3.2611),\n",
       " tensor(-3.2611),\n",
       " tensor(-3.7608),\n",
       " tensor(-2.2560),\n",
       " tensor(-2.2560),\n",
       " tensor(-2.2560),\n",
       " tensor(-2.2560),\n",
       " tensor(-2.2560),\n",
       " tensor(-2.2560),\n",
       " tensor(-2.2560),\n",
       " tensor(-2.2560),\n",
       " tensor(-1.4388),\n",
       " tensor(-2.2560),\n",
       " tensor(-3.2611),\n",
       " tensor(-3.2436),\n",
       " tensor(-3.2436),\n",
       " tensor(-3.2436),\n",
       " tensor(-3.2611),\n",
       " tensor(-3.2611),\n",
       " tensor(-3.2611),\n",
       " tensor(-3.2611),\n",
       " tensor(-2.2560),\n",
       " tensor(-3.2611),\n",
       " tensor(-2.2560),\n",
       " tensor(-2.2560),\n",
       " tensor(-3.2436),\n",
       " tensor(-2.2560),\n",
       " tensor(-2.2560),\n",
       " tensor(-3.2611),\n",
       " tensor(-2.2560),\n",
       " tensor(-2.2560),\n",
       " tensor(-2.2560),\n",
       " tensor(-2.2560),\n",
       " tensor(-3.7608),\n",
       " tensor(-1.4388),\n",
       " tensor(-2.2560),\n",
       " tensor(-3.2436),\n",
       " tensor(-3.2436),\n",
       " tensor(-3.2436),\n",
       " tensor(-3.2611),\n",
       " tensor(-3.2611),\n",
       " tensor(-3.2611),\n",
       " tensor(-3.2611),\n",
       " tensor(-2.2560),\n",
       " tensor(-2.2560),\n",
       " tensor(-3.2611),\n",
       " tensor(-2.2560),\n",
       " tensor(-3.2611),\n",
       " tensor(-2.2560),\n",
       " tensor(-3.7608),\n",
       " tensor(-2.2560),\n",
       " tensor(-3.2611),\n",
       " tensor(-2.2560),\n",
       " tensor(-3.2611),\n",
       " tensor(-3.2611),\n",
       " tensor(-3.7608),\n",
       " tensor(-1.4388),\n",
       " tensor(-2.2560),\n",
       " tensor(-3.2436),\n",
       " tensor(-3.2436),\n",
       " tensor(-3.2436),\n",
       " tensor(-3.2611),\n",
       " tensor(-3.2611),\n",
       " tensor(-2.2560),\n",
       " tensor(-2.2560),\n",
       " tensor(-2.2560),\n",
       " tensor(-2.2560),\n",
       " tensor(-1.4388),\n",
       " tensor(-2.2560),\n",
       " tensor(-2.2560),\n",
       " tensor(-2.2560),\n",
       " tensor(-3.2611),\n",
       " tensor(-2.2560),\n",
       " tensor(-2.2560),\n",
       " tensor(-3.2611),\n",
       " tensor(-3.2611),\n",
       " tensor(-3.2611),\n",
       " tensor(-3.7608),\n",
       " tensor(-1.4388),\n",
       " tensor(-3.2611),\n",
       " tensor(-3.2436),\n",
       " tensor(-3.2436),\n",
       " tensor(-3.2436),\n",
       " tensor(-3.2611),\n",
       " tensor(-2.2560),\n",
       " tensor(-2.2560),\n",
       " tensor(-3.2436),\n",
       " tensor(-2.2560),\n",
       " tensor(-2.2560),\n",
       " tensor(-3.2611),\n",
       " tensor(-2.2560),\n",
       " tensor(-2.2560),\n",
       " tensor(-3.2611),\n",
       " tensor(-3.2611),\n",
       " tensor(-3.2611),\n",
       " tensor(-3.2611),\n",
       " tensor(-3.2611),\n",
       " tensor(-3.2436),\n",
       " tensor(-3.2436),\n",
       " tensor(-3.2436),\n",
       " tensor(-3.2611),\n",
       " tensor(-3.2611),\n",
       " tensor(-2.2560),\n",
       " tensor(-2.2560),\n",
       " tensor(-2.2560),\n",
       " tensor(-3.7608),\n",
       " tensor(-2.2560),\n",
       " tensor(-2.2560),\n",
       " tensor(-2.2560),\n",
       " tensor(-2.2560),\n",
       " tensor(-3.2611),\n",
       " tensor(-2.2560),\n",
       " tensor(-2.2560),\n",
       " tensor(-2.8615),\n",
       " tensor(-1.4388),\n",
       " tensor(-2.2560),\n",
       " tensor(-3.2611),\n",
       " tensor(-3.2611),\n",
       " tensor(-3.2611),\n",
       " tensor(-3.2436),\n",
       " tensor(-3.2436),\n",
       " tensor(-3.2436),\n",
       " tensor(-3.2611),\n",
       " tensor(-3.2611),\n",
       " tensor(-3.7608),\n",
       " tensor(-2.2560),\n",
       " tensor(-2.2560),\n",
       " tensor(-2.2560),\n",
       " tensor(-2.2560),\n",
       " tensor(-2.2560),\n",
       " tensor(-2.2560),\n",
       " tensor(-2.2560),\n",
       " tensor(-2.2560),\n",
       " tensor(-3.7608),\n",
       " tensor(-1.4388),\n",
       " tensor(-3.2611),\n",
       " tensor(-3.2436),\n",
       " tensor(-3.2436),\n",
       " tensor(-3.2436),\n",
       " tensor(-3.2611),\n",
       " tensor(-3.2611),\n",
       " tensor(-3.2611),\n",
       " tensor(-3.2611),\n",
       " tensor(-2.2560),\n",
       " tensor(-2.2560),\n",
       " tensor(-3.2611),\n",
       " tensor(-2.2560),\n",
       " tensor(-3.2611),\n",
       " tensor(-2.2560),\n",
       " tensor(-2.2560),\n",
       " tensor(-3.7608),\n",
       " tensor(-2.2560),\n",
       " tensor(-3.2611),\n",
       " tensor(-2.2560),\n",
       " tensor(-3.2611),\n",
       " tensor(-3.2611),\n",
       " tensor(-3.7608),\n",
       " tensor(-1.4388),\n",
       " tensor(-2.2560),\n",
       " tensor(-3.2611),\n",
       " tensor(-3.2436),\n",
       " tensor(-3.2436),\n",
       " tensor(-3.2436),\n",
       " tensor(-3.2611),\n",
       " tensor(-2.2560),\n",
       " tensor(-3.2611),\n",
       " tensor(-2.2560),\n",
       " tensor(-2.2560),\n",
       " tensor(-2.2560),\n",
       " tensor(-3.2611),\n",
       " tensor(-2.2560),\n",
       " tensor(-2.2560),\n",
       " tensor(-2.2560),\n",
       " tensor(-4.0229),\n",
       " tensor(-2.2560),\n",
       " tensor(-2.2560),\n",
       " tensor(-3.2611),\n",
       " tensor(-2.2560),\n",
       " tensor(-3.2611),\n",
       " tensor(-3.2611),\n",
       " tensor(-3.2611),\n",
       " tensor(-3.7608),\n",
       " tensor(-1.4388),\n",
       " tensor(-2.2560),\n",
       " tensor(-3.2436),\n",
       " tensor(-3.2436),\n",
       " tensor(-3.2436),\n",
       " tensor(-3.2611),\n",
       " tensor(-3.2611),\n",
       " tensor(-2.2560),\n",
       " tensor(-2.2560),\n",
       " tensor(-1.4388),\n",
       " tensor(-2.2560),\n",
       " tensor(-2.2560),\n",
       " tensor(-2.2560),\n",
       " tensor(-3.2611),\n",
       " tensor(-2.2560),\n",
       " tensor(-2.2560),\n",
       " tensor(-2.2560),\n",
       " tensor(-2.2560),\n",
       " tensor(-2.2560),\n",
       " tensor(-3.2611),\n",
       " tensor(-3.2611),\n",
       " tensor(-3.2611),\n",
       " tensor(-3.2611),\n",
       " tensor(-3.7608),\n",
       " tensor(-1.4388),\n",
       " tensor(-3.2436),\n",
       " tensor(-3.2436),\n",
       " tensor(-3.2436),\n",
       " tensor(-3.2611),\n",
       " tensor(-3.2611),\n",
       " tensor(-2.2560),\n",
       " tensor(-2.2560),\n",
       " tensor(-3.7608),\n",
       " tensor(-2.2560),\n",
       " tensor(-2.2560),\n",
       " tensor(-3.2611),\n",
       " tensor(-2.2560),\n",
       " tensor(-2.2560),\n",
       " tensor(-3.2611),\n",
       " tensor(-2.2560),\n",
       " tensor(-3.2611),\n",
       " tensor(-2.2560),\n",
       " tensor(-3.2611),\n",
       " tensor(-2.2560),\n",
       " tensor(-3.2611),\n",
       " tensor(-3.2611),\n",
       " tensor(-3.2611),\n",
       " tensor(-3.2611),\n",
       " tensor(-3.7608),\n",
       " tensor(-2.8615),\n",
       " tensor(-3.2436),\n",
       " tensor(-3.2436),\n",
       " tensor(-3.2436),\n",
       " tensor(-3.7608),\n",
       " tensor(-2.2560),\n",
       " tensor(-3.2611),\n",
       " tensor(-2.2560),\n",
       " tensor(-2.2560),\n",
       " tensor(-2.2560),\n",
       " tensor(-3.2611),\n",
       " tensor(-2.2560),\n",
       " tensor(-3.2611),\n",
       " tensor(-2.2560),\n",
       " tensor(-2.2560),\n",
       " tensor(-2.2560),\n",
       " tensor(-3.7608),\n",
       " tensor(-2.2560),\n",
       " tensor(-2.2560),\n",
       " tensor(-3.2611),\n",
       " tensor(-3.7608),\n",
       " tensor(-1.4388),\n",
       " tensor(-2.2560),\n",
       " tensor(-3.2611),\n",
       " tensor(-3.2611),\n",
       " tensor(-3.2611),\n",
       " tensor(-3.2611),\n",
       " tensor(-3.2436),\n",
       " tensor(-3.2436),\n",
       " tensor(-3.2611),\n",
       " tensor(-2.2560),\n",
       " tensor(-2.2560),\n",
       " tensor(-3.2611),\n",
       " tensor(-2.2560),\n",
       " tensor(-2.2560),\n",
       " tensor(-2.2560),\n",
       " tensor(-2.2560),\n",
       " tensor(-3.7608),\n",
       " tensor(-2.2560),\n",
       " tensor(-3.2611),\n",
       " tensor(-2.2560),\n",
       " tensor(-2.2560),\n",
       " tensor(-2.2560),\n",
       " tensor(-2.2560),\n",
       " tensor(-2.2560),\n",
       " tensor(-2.2560),\n",
       " tensor(-2.2560),\n",
       " tensor(-2.2560),\n",
       " tensor(-2.2560),\n",
       " tensor(-2.2560),\n",
       " ...}"
      ]
     },
     "execution_count": 62,
     "metadata": {},
     "output_type": "execute_result"
    }
   ],
   "source": [
    "set(grad.flatten())"
   ]
  },
  {
   "cell_type": "markdown",
   "id": "public-groove",
   "metadata": {},
   "source": [
    "## test if the 1d case is right for K=3"
   ]
  },
  {
   "cell_type": "code",
   "execution_count": 98,
   "id": "pursuant-egyptian",
   "metadata": {},
   "outputs": [],
   "source": [
    "def test_1d(n_iter):\n",
    "    stats = np.empty((n_iter,1))\n",
    "    for i in range(n_iter):\n",
    "        d = torch.linspace(-20, 20, 2001)\n",
    "        d = d.reshape(-1,1)\n",
    "        d.requires_grad_(True)\n",
    "        \n",
    "        ghh = GHH(d,1,3)\n",
    "        output = ghh(d)\n",
    "        output.backward(torch.ones_like(output))\n",
    "\n",
    "        grad = d.grad\n",
    "        reg = get_region_1d(grad)\n",
    "        n = len(set(reg.flatten()))\n",
    "        stats[i,0] = n\n",
    "        \n",
    "    #save the data\n",
    "    np.save('sanity_test.npy', stats)\n",
    "    return stats"
   ]
  },
  {
   "cell_type": "code",
   "execution_count": 99,
   "id": "agricultural-burden",
   "metadata": {},
   "outputs": [],
   "source": [
    "stats = test_1d(1000)"
   ]
  },
  {
   "cell_type": "code",
   "execution_count": 100,
   "id": "prescription-breeding",
   "metadata": {},
   "outputs": [
    {
     "name": "stdout",
     "output_type": "stream",
     "text": [
      "0.892\n"
     ]
    }
   ],
   "source": [
    "stats_equal4 = stats.copy()\n",
    "stats_equal4[stats==4] = 1\n",
    "stats_equal4[stats!=4] = 0\n",
    "total = stats_equal4.sum()\n",
    "ratio = total/1000\n",
    "print(ratio)"
   ]
  },
  {
   "cell_type": "code",
   "execution_count": 106,
   "id": "champion-browser",
   "metadata": {},
   "outputs": [
    {
     "data": {
      "text/plain": [
       "(1000,)"
      ]
     },
     "execution_count": 106,
     "metadata": {},
     "output_type": "execute_result"
    }
   ],
   "source": [
    "stats_f = stats.flatten()"
   ]
  },
  {
   "cell_type": "markdown",
   "id": "blind-bernard",
   "metadata": {},
   "source": [
    "### the 1st architecture"
   ]
  },
  {
   "cell_type": "code",
   "execution_count": 107,
   "id": "formed-ability",
   "metadata": {},
   "outputs": [],
   "source": [
    "def arch_1(d, k, l):\n",
    "    ghh1 = GHH(d,1,k)\n",
    "    res = ghh1(d)\n",
    "    \n",
    "    for i in range(l-1):\n",
    "        ghh = GHH(d,1,k)\n",
    "        res = res.clone()\n",
    "        res = ghh(res)\n",
    "        \n",
    "    output = res.clone()\n",
    "    return output"
   ]
  },
  {
   "cell_type": "markdown",
   "id": "south-providence",
   "metadata": {},
   "source": [
    "# reason of 'saturation'\n",
    "\n",
    "### 1) check if the stepsize is not small enough"
   ]
  },
  {
   "cell_type": "code",
   "execution_count": 126,
   "id": "surprised-store",
   "metadata": {},
   "outputs": [],
   "source": [
    "def nb_region_arch1(ls, n_iter, nb, save_name1, save_name2):\n",
    "    avg_nbs = []\n",
    "    stds = []\n",
    "    for l in ls:\n",
    "        stats = torch.empty(n_iter, 1)\n",
    "        for i in range(n_iter):\n",
    "            d = torch.linspace(-20, 20, nb)\n",
    "            d = d.reshape(-1, 1)\n",
    "            d.requires_grad_(True)\n",
    "            output = arch_1(d, 3, l)\n",
    "            output.backward(torch.ones_like(output))\n",
    "            grad = d.grad.numpy().reshape(-1)\n",
    "            \n",
    "            stats[i,0] = len(set(grad))\n",
    "        avg_nb = stats.mean(axis = 0)[0].item()\n",
    "        std = stats.std(axis = 0)[0].item()\n",
    "        avg_nbs.append(avg_nb)\n",
    "        stds.append(std)\n",
    "        print(f'{l}, finished.')\n",
    "    # save the result\n",
    "    avg_nbs_tosave = np.array(avg_nbs)\n",
    "    stds_tosave = np.array(stds)\n",
    "    np.save(save_name1, avg_nbs_tosave)\n",
    "    np.save(save_name2, stds_tosave)\n",
    "    return avg_nbs, stds"
   ]
  },
  {
   "cell_type": "code",
   "execution_count": 228,
   "id": "literary-graduation",
   "metadata": {},
   "outputs": [
    {
     "data": {
      "text/plain": [
       "array([  1,  10,  20,  30,  40,  50,  60,  70,  80,  90, 100])"
      ]
     },
     "execution_count": 228,
     "metadata": {},
     "output_type": "execute_result"
    }
   ],
   "source": [
    "# def. of the layers number\n",
    "ls = np.arange(0,101,10)\n",
    "ls[0] = 1\n",
    "ls"
   ]
  },
  {
   "cell_type": "code",
   "execution_count": 157,
   "id": "german-charleston",
   "metadata": {},
   "outputs": [
    {
     "data": {
      "text/plain": [
       "100"
      ]
     },
     "execution_count": 157,
     "metadata": {},
     "output_type": "execute_result"
    }
   ],
   "source": [
    "ls[10]"
   ]
  },
  {
   "cell_type": "code",
   "execution_count": 131,
   "id": "spare-klein",
   "metadata": {},
   "outputs": [
    {
     "name": "stdout",
     "output_type": "stream",
     "text": [
      "1, finished.\n",
      "10, finished.\n",
      "20, finished.\n",
      "30, finished.\n",
      "40, finished.\n",
      "50, finished.\n",
      "60, finished.\n",
      "70, finished.\n",
      "80, finished.\n",
      "90, finished.\n",
      "100, finished.\n"
     ]
    }
   ],
   "source": [
    "# stepsize = 0.5\n",
    "nbs_80, stds_80 = nb_region_arch1(ls, 1000, 81, 'data/arch1_nbs_80.npy', 'data/arch1_stds_80.npy')"
   ]
  },
  {
   "cell_type": "code",
   "execution_count": 128,
   "id": "progressive-soldier",
   "metadata": {},
   "outputs": [
    {
     "name": "stdout",
     "output_type": "stream",
     "text": [
      "1, finished.\n",
      "10, finished.\n",
      "20, finished.\n",
      "30, finished.\n",
      "40, finished.\n",
      "50, finished.\n",
      "60, finished.\n",
      "70, finished.\n",
      "80, finished.\n",
      "90, finished.\n",
      "100, finished.\n"
     ]
    }
   ],
   "source": [
    "# stepsize = 0.4\n",
    "nbs_100, stds_100 = nb_region_arch1(ls, 1000, 101, 'data/arch1_nbs_100.npy', 'data/arch1_stds_100.npy')"
   ]
  },
  {
   "cell_type": "code",
   "execution_count": 132,
   "id": "korean-register",
   "metadata": {},
   "outputs": [
    {
     "name": "stdout",
     "output_type": "stream",
     "text": [
      "1, finished.\n",
      "10, finished.\n",
      "20, finished.\n",
      "30, finished.\n",
      "40, finished.\n",
      "50, finished.\n",
      "60, finished.\n",
      "70, finished.\n",
      "80, finished.\n",
      "90, finished.\n",
      "100, finished.\n"
     ]
    }
   ],
   "source": [
    "# stepsize = 0.2\n",
    "nbs_200, stds_200 = nb_region_arch1(ls, 1000, 201, 'data/arch1_nbs_200.npy', 'data/arch1_stds_200.npy')"
   ]
  },
  {
   "cell_type": "code",
   "execution_count": 133,
   "id": "human-serum",
   "metadata": {},
   "outputs": [
    {
     "name": "stdout",
     "output_type": "stream",
     "text": [
      "1, finished.\n",
      "10, finished.\n",
      "20, finished.\n",
      "30, finished.\n",
      "40, finished.\n",
      "50, finished.\n",
      "60, finished.\n",
      "70, finished.\n",
      "80, finished.\n",
      "90, finished.\n",
      "100, finished.\n"
     ]
    }
   ],
   "source": [
    "# stepsize = 0.1\n",
    "nbs_400, stds_400 = nb_region_arch1(ls, 1000, 401, 'data/arch1_nbs_400.npy', 'data/arch1_stds_400.npy')"
   ]
  },
  {
   "cell_type": "code",
   "execution_count": 134,
   "id": "eleven-injury",
   "metadata": {},
   "outputs": [
    {
     "name": "stdout",
     "output_type": "stream",
     "text": [
      "1, finished.\n",
      "10, finished.\n",
      "20, finished.\n",
      "30, finished.\n",
      "40, finished.\n",
      "50, finished.\n",
      "60, finished.\n",
      "70, finished.\n",
      "80, finished.\n",
      "90, finished.\n",
      "100, finished.\n"
     ]
    }
   ],
   "source": [
    "# stepsize = 0.05\n",
    "nbs_800, stds_800 = nb_region_arch1(ls, 1000, 801, 'data/arch1_nbs_800.npy', 'data/arch1_stds_800.npy')"
   ]
  },
  {
   "cell_type": "code",
   "execution_count": 135,
   "id": "daily-berry",
   "metadata": {},
   "outputs": [
    {
     "name": "stdout",
     "output_type": "stream",
     "text": [
      "1, finished.\n",
      "10, finished.\n",
      "20, finished.\n",
      "30, finished.\n",
      "40, finished.\n",
      "50, finished.\n",
      "60, finished.\n",
      "70, finished.\n",
      "80, finished.\n",
      "90, finished.\n",
      "100, finished.\n"
     ]
    }
   ],
   "source": [
    "# stepsize = 0.04\n",
    "nbs_1000, stds_1000 = nb_region_arch1(ls, 1000, 1001, 'data/arch1_nbs_1000.npy', 'data/arch1_stds_1000.npy')"
   ]
  },
  {
   "cell_type": "code",
   "execution_count": 136,
   "id": "italic-remove",
   "metadata": {},
   "outputs": [
    {
     "name": "stdout",
     "output_type": "stream",
     "text": [
      "1, finished.\n",
      "10, finished.\n",
      "20, finished.\n",
      "30, finished.\n",
      "40, finished.\n",
      "50, finished.\n",
      "60, finished.\n",
      "70, finished.\n",
      "80, finished.\n",
      "90, finished.\n",
      "100, finished.\n"
     ]
    }
   ],
   "source": [
    "# stepsize = 0.02\n",
    "nbs_2000, stds_2000 = nb_region_arch1(ls, 1000, 2001, 'data/arch1_nbs_2000.npy', 'data/arch1_stds_2000.npy')"
   ]
  },
  {
   "cell_type": "code",
   "execution_count": 137,
   "id": "extraordinary-trace",
   "metadata": {},
   "outputs": [
    {
     "name": "stdout",
     "output_type": "stream",
     "text": [
      "1, finished.\n",
      "10, finished.\n",
      "20, finished.\n",
      "30, finished.\n",
      "40, finished.\n",
      "50, finished.\n",
      "60, finished.\n",
      "70, finished.\n",
      "80, finished.\n",
      "90, finished.\n",
      "100, finished.\n"
     ]
    }
   ],
   "source": [
    "# stepsize = 0.01\n",
    "nbs_4000, stds_4000 = nb_region_arch1(ls, 1000, 4001, 'data/arch1_nbs_4000.npy', 'data/arch1_stds_4000.npy')"
   ]
  },
  {
   "cell_type": "code",
   "execution_count": 154,
   "id": "warming-instrument",
   "metadata": {},
   "outputs": [
    {
     "name": "stdout",
     "output_type": "stream",
     "text": [
      "1, finished.\n",
      "10, finished.\n",
      "20, finished.\n",
      "30, finished.\n",
      "40, finished.\n",
      "50, finished.\n",
      "60, finished.\n",
      "70, finished.\n",
      "80, finished.\n",
      "90, finished.\n",
      "100, finished.\n"
     ]
    }
   ],
   "source": [
    "# stepsize = 0.001\n",
    "nbs_40000, stds_40000 = nb_region_arch1(ls, 1000, 40001, 'data/arch1_nbs_40000.npy', 'data/arch1_stds_40000.npy')"
   ]
  },
  {
   "cell_type": "code",
   "execution_count": 229,
   "id": "phantom-fleece",
   "metadata": {},
   "outputs": [
    {
     "name": "stdout",
     "output_type": "stream",
     "text": [
      "1, finished.\n",
      "10, finished.\n",
      "20, finished.\n",
      "30, finished.\n",
      "40, finished.\n",
      "50, finished.\n",
      "60, finished.\n",
      "70, finished.\n",
      "80, finished.\n",
      "90, finished.\n",
      "100, finished.\n"
     ]
    }
   ],
   "source": [
    "# stepsize = 0.0001\n",
    "nbs_400000, stds_400000 = nb_region_arch1(ls, 1000, 20, 400001, 'data/arch1_nbs_400000.npy', 'data/arch1_stds_400000.npy')"
   ]
  },
  {
   "cell_type": "code",
   "execution_count": 148,
   "id": "generic-winner",
   "metadata": {},
   "outputs": [],
   "source": [
    "nbs_4000_np = np.array(nbs_4000)\n",
    "stds_4000_np = np.array(stds_4000)\n",
    "upp_4000 = nbs_4000_np + stds_4000_np\n",
    "low_4000 = nbs_4000_np - stds_4000_np"
   ]
  },
  {
   "cell_type": "code",
   "execution_count": 164,
   "id": "cheap-clearing",
   "metadata": {},
   "outputs": [],
   "source": [
    "nbs_40000_np = np.array(nbs_40000)\n",
    "stds_40000_np = np.array(stds_40000)\n",
    "upp_40000 = nbs_40000_np + stds_40000_np\n",
    "low_40000 = nbs_40000_np - stds_40000_np"
   ]
  },
  {
   "cell_type": "code",
   "execution_count": 166,
   "id": "inappropriate-tiger",
   "metadata": {},
   "outputs": [
    {
     "data": {
      "image/png": "[encoded data removed]",
      "text/plain": [
       "<Figure size 1440x720 with 2 Axes>"
      ]
     },
     "metadata": {
      "needs_background": "light"
     },
     "output_type": "display_data"
    }
   ],
   "source": [
    "# plotting\n",
    "fig = plt.figure(figsize=(20,10))\n",
    "plt.subplot(1, 2, 1)\n",
    "plt.plot(ls,nbs_4000_np,'k-',marker = 'o',mfc = 'r', mec = 'r', label = '# of linear regions')\n",
    "plt.fill_between(ls, upp_4000, low_4000, color='gray')\n",
    "plt.legend()\n",
    "\n",
    " \n",
    "\n",
    "#plt.loglog()\n",
    "plt.xlabel(\"L\")\n",
    "plt.ylabel(\"Avg. number of linear regions\")\n",
    "plt.title(\"Avg. number of linear regions w.r.t. the number of layers l with stepsize 0.01\",fontsize=8)\n",
    "\n",
    "plt.subplot(1, 2, 2)\n",
    "plt.plot(ls,nbs_40000_np,'k-',marker = 'o',mfc = 'r', mec = 'r', label = '# of linear regions')\n",
    "plt.fill_between(ls, upp_40000, low_40000, color='gray')\n",
    "plt.legend()\n",
    "\n",
    " \n",
    "\n",
    "#plt.loglog()\n",
    "plt.xlabel(\"L\")\n",
    "plt.ylabel(\"Avg. number of linear regions\")\n",
    "plt.title(\"Avg. number of linear regions w.r.t. the number of layers l with stepsize 0.001\",fontsize=8)\n",
    "\n",
    "plt.savefig('figures/nb_linear_regions_stepsize.jpg')\n",
    "plt.show()\n",
    "\n"
   ]
  },
  {
   "cell_type": "markdown",
   "id": "accessory-mirror",
   "metadata": {},
   "source": [
    "### compare the average number of linear regions depening on the stepsize for a given number of layers of the 1st architecture"
   ]
  },
  {
   "cell_type": "markdown",
   "id": "verbal-briefs",
   "metadata": {},
   "source": [
    "##### for L = 1, 10, 50, 100"
   ]
  },
  {
   "cell_type": "code",
   "execution_count": 158,
   "id": "dense-prediction",
   "metadata": {},
   "outputs": [],
   "source": [
    "# cosntruct the x_axis with the values of stepsize\n",
    "stepsizes = np.array([0.5, 0.4, 0.2, 0.1, 0.05, 0.04, 0.02, 0.01,0.001])\n",
    "# for L = 1\n",
    "nbs_L1 = np.array([nbs_80[0],nbs_100[0],nbs_200[0],nbs_400[0],\n",
    "                   nbs_800[0],nbs_1000[0],nbs_2000[0],nbs_4000[0],nbs_40000[0]])\n",
    "stds_L1 = np.array([stds_80[0], stds_100[0],stds_200[0],stds_400[0],\n",
    "                   stds_800[0],stds_1000[0],stds_2000[0],stds_4000[0],stds_40000[0]])\n",
    "#for L=10\n",
    "nbs_L10 = np.array([nbs_80[1],nbs_100[1],nbs_200[1],nbs_400[1],\n",
    "                   nbs_800[1],nbs_1000[1],nbs_2000[1],nbs_4000[1],nbs_40000[1]])\n",
    "stds_L10 = np.array([stds_80[1], stds_100[1],stds_200[1],stds_400[1],\n",
    "                   stds_800[1],stds_1000[1],stds_2000[1],stds_4000[1],stds_40000[1]])\n",
    "# for L = 50\n",
    "nbs_L50 = np.array([nbs_80[5],nbs_100[5],nbs_200[5],nbs_400[5],\n",
    "                   nbs_800[5],nbs_1000[5],nbs_2000[5],nbs_4000[5],nbs_40000[5]])\n",
    "stds_L50 = np.array([stds_80[5], stds_100[5],stds_200[5],stds_400[5],\n",
    "                   stds_800[5],stds_1000[5],stds_2000[5],stds_4000[5],stds_40000[5]])\n",
    "# for L = 100\n",
    "\n",
    "nbs_L100 = np.array([nbs_80[10],nbs_100[10],nbs_200[10],nbs_400[10],\n",
    "                   nbs_800[10],nbs_1000[10],nbs_2000[10],nbs_4000[10],nbs_40000[10]])\n",
    "stds_L100 = np.array([stds_80[10], stds_100[10],stds_200[10],stds_400[10],\n",
    "                   stds_800[10],stds_1000[10],stds_2000[10],stds_4000[10],stds_40000[10]])"
   ]
  },
  {
   "cell_type": "code",
   "execution_count": 169,
   "id": "latin-storage",
   "metadata": {},
   "outputs": [],
   "source": [
    "nbs_L1_upp = nbs_L1 + stds_L1\n",
    "nbs_L1_low = nbs_L1 - stds_L1\n",
    "\n",
    "nbs_L10_upp = nbs_L10 + stds_L10\n",
    "nbs_L10_low = nbs_L10 - stds_L10\n",
    "\n",
    "nbs_L50_upp = nbs_L50 + stds_L50\n",
    "nbs_L50_low = nbs_L50 - stds_L50\n",
    "\n",
    "nbs_L100_upp = nbs_L100 + stds_L100\n",
    "nbs_L100_low = nbs_L100 - stds_L100"
   ]
  },
  {
   "cell_type": "code",
   "execution_count": 171,
   "id": "prescribed-migration",
   "metadata": {},
   "outputs": [
    {
     "data": {
      "image/png": "[encoded data removed]",
      "text/plain": [
       "<Figure size 1440x720 with 4 Axes>"
      ]
     },
     "metadata": {
      "needs_background": "light"
     },
     "output_type": "display_data"
    }
   ],
   "source": [
    "# plotting\n",
    "# 1st plot\n",
    "fig = plt.figure(figsize=(20,10))\n",
    "plt.subplot(2, 2, 1)\n",
    "plt.plot(stepsizes,nbs_L1,'k-',marker = 'o',mfc = 'r', mec = 'r', label = '# of linear regions')\n",
    "plt.fill_between(stepsizes, nbs_L1_upp, nbs_L1_low, color='gray')\n",
    "plt.legend()\n",
    "\n",
    "plt.xlabel(\"stepsize\")\n",
    "plt.ylabel(\"Avg. number of linear regions\")\n",
    "plt.title(\"Avg. number of linear regions w.r.t. stepsize with L = 1\",fontsize=8)\n",
    "# 2nd plot\n",
    "plt.subplot(2, 2, 2)\n",
    "plt.plot(stepsizes,nbs_L10,'k-',marker = 'o',mfc = 'r', mec = 'r', label = '# of linear regions')\n",
    "plt.fill_between(stepsizes, nbs_L10_upp, nbs_L10_low, color='gray')\n",
    "plt.legend()\n",
    "\n",
    "plt.xlabel(\"stepsize\")\n",
    "plt.ylabel(\"Avg. number of linear regions\")\n",
    "plt.title(\"Avg. number of linear regions w.r.t. stepsize with L = 10\",fontsize=8)\n",
    "# 3rd plot\n",
    "plt.subplot(2, 2, 3)\n",
    "plt.plot(stepsizes,nbs_L50,'k-',marker = 'o',mfc = 'r', mec = 'r', label = '# of linear regions')\n",
    "plt.fill_between(stepsizes, nbs_L50_upp, nbs_L50_low, color='gray')\n",
    "plt.legend()\n",
    "\n",
    "plt.xlabel(\"stepsize\")\n",
    "plt.ylabel(\"Avg. number of linear regions\")\n",
    "plt.title(\"Avg. number of linear regions w.r.t. stepsize with L = 50\",fontsize=8)\n",
    "# 4th plot\n",
    "plt.subplot(2, 2, 4)\n",
    "plt.plot(stepsizes,nbs_L100,'k-',marker = 'o',mfc = 'r', mec = 'r', label = '# of linear regions')\n",
    "plt.fill_between(stepsizes, nbs_L100_upp, nbs_L100_low, color='gray')\n",
    "plt.legend()\n",
    "\n",
    "plt.xlabel(\"stepsize\")\n",
    "plt.ylabel(\"Avg. number of linear regions\")\n",
    "plt.title(\"Avg. number of linear regions w.r.t. stepsize with L = 100\",fontsize=8)\n",
    "\n",
    "plt.savefig('figures/variation_stepsize.jpg')\n",
    "plt.show()"
   ]
  },
  {
   "cell_type": "markdown",
   "id": "immune-theology",
   "metadata": {},
   "source": [
    "###  2)check if the window size is not big enough"
   ]
  },
  {
   "cell_type": "code",
   "execution_count": 172,
   "id": "residential-steam",
   "metadata": {},
   "outputs": [],
   "source": [
    "def nb_region_arch1(ls, n_iter, window_size, nb, save_name1, save_name2):\n",
    "    avg_nbs = []\n",
    "    stds = []\n",
    "    for l in ls:\n",
    "        stats = torch.empty(n_iter, 1)\n",
    "        for i in range(n_iter):\n",
    "            d = torch.linspace(-1*window_size, window_size, nb)\n",
    "            d = d.reshape(-1, 1)\n",
    "            d.requires_grad_(True)\n",
    "            output = arch_1(d, 3, l)\n",
    "            output.backward(torch.ones_like(output))\n",
    "            grad = d.grad.numpy().reshape(-1)\n",
    "            \n",
    "            stats[i,0] = len(set(grad))\n",
    "        avg_nb = stats.mean(axis = 0)[0].item()\n",
    "        std = stats.std(axis = 0)[0].item()\n",
    "        avg_nbs.append(avg_nb)\n",
    "        stds.append(std)\n",
    "        print(f'{l}, finished.')\n",
    "    # save the result\n",
    "    avg_nbs_tosave = np.array(avg_nbs)\n",
    "    stds_tosave = np.array(stds)\n",
    "    np.save(save_name1, avg_nbs_tosave)\n",
    "    np.save(save_name2, stds_tosave)\n",
    "    return avg_nbs, stds"
   ]
  },
  {
   "cell_type": "code",
   "execution_count": 173,
   "id": "three-fortune",
   "metadata": {},
   "outputs": [
    {
     "data": {
      "text/plain": [
       "array([  1,  10,  20,  30,  40,  50,  60,  70,  80,  90, 100])"
      ]
     },
     "execution_count": 173,
     "metadata": {},
     "output_type": "execute_result"
    }
   ],
   "source": [
    "# def. of the layers number\n",
    "ls = np.arange(0,101,10)\n",
    "ls[0] = 1\n",
    "ls"
   ]
  },
  {
   "cell_type": "code",
   "execution_count": 174,
   "id": "further-halloween",
   "metadata": {},
   "outputs": [
    {
     "name": "stdout",
     "output_type": "stream",
     "text": [
      "1, finished.\n",
      "10, finished.\n",
      "20, finished.\n",
      "30, finished.\n",
      "40, finished.\n",
      "50, finished.\n",
      "60, finished.\n",
      "70, finished.\n",
      "80, finished.\n",
      "90, finished.\n",
      "100, finished.\n"
     ]
    }
   ],
   "source": [
    "# stick with the stepsize = 0.02\n",
    "nbss_80, stdss_80 = nb_region_arch1(ls, 1000, 10, 1001, 'data/arch1_nbs_w10.npy', 'data/arch1_stds_w10.npy')"
   ]
  },
  {
   "cell_type": "code",
   "execution_count": 176,
   "id": "front-palestinian",
   "metadata": {},
   "outputs": [],
   "source": [
    "# small correction for the name of variables\n",
    "nbs_w10 = nbss_80\n",
    "stds_w10 = stdss_80"
   ]
  },
  {
   "cell_type": "code",
   "execution_count": 177,
   "id": "literary-water",
   "metadata": {},
   "outputs": [
    {
     "name": "stdout",
     "output_type": "stream",
     "text": [
      "1, finished.\n",
      "10, finished.\n",
      "20, finished.\n",
      "30, finished.\n",
      "40, finished.\n",
      "50, finished.\n",
      "60, finished.\n",
      "70, finished.\n",
      "80, finished.\n",
      "90, finished.\n",
      "100, finished.\n"
     ]
    }
   ],
   "source": [
    "nbs_w15, stds_w15 = nb_region_arch1(ls, 1000, 15, 1501, 'data/arch1_nbs_w15.npy', 'data/arch1_stds_w15.npy')"
   ]
  },
  {
   "cell_type": "code",
   "execution_count": 178,
   "id": "hollywood-albania",
   "metadata": {},
   "outputs": [
    {
     "name": "stdout",
     "output_type": "stream",
     "text": [
      "1, finished.\n",
      "10, finished.\n",
      "20, finished.\n",
      "30, finished.\n",
      "40, finished.\n",
      "50, finished.\n",
      "60, finished.\n",
      "70, finished.\n",
      "80, finished.\n",
      "90, finished.\n",
      "100, finished.\n"
     ]
    }
   ],
   "source": [
    "nbs_w20, stds_w20 = nb_region_arch1(ls, 1000, 20, 2001, 'data/arch1_nbs_w20.npy', 'data/arch1_stds_w20.npy')"
   ]
  },
  {
   "cell_type": "code",
   "execution_count": 179,
   "id": "neural-proposition",
   "metadata": {},
   "outputs": [
    {
     "name": "stdout",
     "output_type": "stream",
     "text": [
      "1, finished.\n",
      "10, finished.\n",
      "20, finished.\n",
      "30, finished.\n",
      "40, finished.\n",
      "50, finished.\n",
      "60, finished.\n",
      "70, finished.\n",
      "80, finished.\n",
      "90, finished.\n",
      "100, finished.\n"
     ]
    }
   ],
   "source": [
    "nbs_w25, stds_w25 = nb_region_arch1(ls, 1000, 25, 2501, 'data/arch1_nbs_w25.npy', 'data/arch1_stds_w25.npy')"
   ]
  },
  {
   "cell_type": "code",
   "execution_count": 180,
   "id": "romance-renaissance",
   "metadata": {},
   "outputs": [
    {
     "name": "stdout",
     "output_type": "stream",
     "text": [
      "1, finished.\n",
      "10, finished.\n",
      "20, finished.\n",
      "30, finished.\n",
      "40, finished.\n",
      "50, finished.\n",
      "60, finished.\n",
      "70, finished.\n",
      "80, finished.\n",
      "90, finished.\n",
      "100, finished.\n"
     ]
    }
   ],
   "source": [
    "nbs_w30, stds_w30 = nb_region_arch1(ls, 1000, 30, 3001, 'data/arch1_nbs_w30.npy', 'data/arch1_stds_w30.npy')"
   ]
  },
  {
   "cell_type": "code",
   "execution_count": 181,
   "id": "buried-insulation",
   "metadata": {},
   "outputs": [
    {
     "name": "stdout",
     "output_type": "stream",
     "text": [
      "1, finished.\n",
      "10, finished.\n",
      "20, finished.\n",
      "30, finished.\n",
      "40, finished.\n",
      "50, finished.\n",
      "60, finished.\n",
      "70, finished.\n",
      "80, finished.\n",
      "90, finished.\n",
      "100, finished.\n"
     ]
    }
   ],
   "source": [
    "nbs_w35, stds_w35 = nb_region_arch1(ls, 1000, 35, 3501, 'data/arch1_nbs_w35.npy', 'data/arch1_stds_w35.npy')"
   ]
  },
  {
   "cell_type": "code",
   "execution_count": 182,
   "id": "neutral-hughes",
   "metadata": {},
   "outputs": [
    {
     "name": "stdout",
     "output_type": "stream",
     "text": [
      "1, finished.\n",
      "10, finished.\n",
      "20, finished.\n",
      "30, finished.\n",
      "40, finished.\n",
      "50, finished.\n",
      "60, finished.\n",
      "70, finished.\n",
      "80, finished.\n",
      "90, finished.\n",
      "100, finished.\n"
     ]
    }
   ],
   "source": [
    "nbs_w40, stds_w40 = nb_region_arch1(ls, 1000, 40, 4001, 'data/arch1_nbs_w40.npy', 'data/arch1_stds_w40.npy')"
   ]
  },
  {
   "cell_type": "code",
   "execution_count": 183,
   "id": "generic-guyana",
   "metadata": {},
   "outputs": [],
   "source": [
    "nbs_w40_np = np.array(nbs_w40)\n",
    "stds_w40_np = np.array(stds_w40)\n",
    "upp_w40 = nbs_w40_np + stds_w40_np\n",
    "low_w40 = nbs_w40_np - stds_w40_np"
   ]
  },
  {
   "cell_type": "code",
   "execution_count": 184,
   "id": "suited-purchase",
   "metadata": {},
   "outputs": [],
   "source": [
    "nbs_w20_np = np.array(nbs_w20)\n",
    "stds_w20_np = np.array(stds_w20)\n",
    "upp_w20 = nbs_w20_np + stds_w20_np\n",
    "low_w20 = nbs_w20_np - stds_w20_np"
   ]
  },
  {
   "cell_type": "code",
   "execution_count": 185,
   "id": "polished-sandwich",
   "metadata": {},
   "outputs": [
    {
     "data": {
      "image/png": "[encoded data removed]",
      "text/plain": [
       "<Figure size 1440x720 with 2 Axes>"
      ]
     },
     "metadata": {
      "needs_background": "light"
     },
     "output_type": "display_data"
    }
   ],
   "source": [
    "# plotting\n",
    "fig = plt.figure(figsize=(20,10))\n",
    "plt.subplot(1, 2, 1)\n",
    "plt.plot(ls,nbs_w20_np,'k-',marker = 'o',mfc = 'r', mec = 'r', label = '# of linear regions')\n",
    "plt.fill_between(ls, upp_w20, low_w20, color='gray')\n",
    "plt.legend()\n",
    "\n",
    " \n",
    "\n",
    "#plt.loglog()\n",
    "plt.xlabel(\"L\")\n",
    "plt.ylabel(\"Avg. number of linear regions\")\n",
    "plt.title(\"Avg. number of linear regions w.r.t. the number of layers l with window size [-20, 20]\",fontsize=8)\n",
    "\n",
    "plt.subplot(1, 2, 2)\n",
    "plt.plot(ls,nbs_w40_np,'k-',marker = 'o',mfc = 'r', mec = 'r', label = '# of linear regions')\n",
    "plt.fill_between(ls, upp_w40, low_w40, color='gray')\n",
    "plt.legend()\n",
    "\n",
    " \n",
    "\n",
    "#plt.loglog()\n",
    "plt.xlabel(\"L\")\n",
    "plt.ylabel(\"Avg. number of linear regions\")\n",
    "plt.title(\"Avg. number of linear regions w.r.t. the number of layers l with window size [-40, 40]\",fontsize=8)\n",
    "\n",
    "plt.savefig('figures/nb_linear_regions_windowsize.jpg')\n",
    "plt.show()\n",
    "\n"
   ]
  },
  {
   "cell_type": "code",
   "execution_count": 189,
   "id": "accepting-conference",
   "metadata": {},
   "outputs": [],
   "source": [
    "# cosntruct the x_axis with the values of window sizes\n",
    "wsizes = np.array([20, 30, 40, 50, 60, 70, 80])\n",
    "# for L = 1\n",
    "nbs_L1 = np.array([nbs_w10[0],nbs_w15[0],nbs_w20[0],nbs_w25[0],nbs_w30[0], nbs_w35[0], nbs_w40[0]])\n",
    "                  \n",
    "stds_L1 = np.array([stds_w10[0],stds_w15[0],stds_w20[0],stds_w25[0],stds_w30[0], stds_w35[0], stds_w40[0]])\n",
    "#for L=10\n",
    "nbs_L10 = np.array([nbs_w10[1],nbs_w15[1],nbs_w20[1],nbs_w25[1],nbs_w30[1], nbs_w35[1], nbs_w40[1]])\n",
    "\n",
    "stds_L10 = np.array([stds_w10[1],stds_w15[1],stds_w20[1],stds_w25[1],stds_w30[1], stds_w35[1], stds_w40[1]])\n",
    "\n",
    "# for L = 50\n",
    "nbs_L50 = np.array([nbs_w10[5],nbs_w15[5],nbs_w20[5],nbs_w25[5],nbs_w30[5], nbs_w35[5], nbs_w40[5]])\n",
    "\n",
    "stds_L50 =  np.array([stds_w10[5],stds_w15[5],stds_w20[5],stds_w25[5],stds_w30[5], stds_w35[5], stds_w40[5]])\n",
    "\n",
    "# for L = 100\n",
    "\n",
    "nbs_L100 = np.array([nbs_w10[10],nbs_w15[10],nbs_w20[10],nbs_w25[10],nbs_w30[10], nbs_w35[10], nbs_w40[10]])\n",
    "\n",
    "stds_L100 =  np.array([stds_w10[10],stds_w15[10],stds_w20[10],stds_w25[10],stds_w30[10], stds_w35[10], stds_w40[10]])"
   ]
  },
  {
   "cell_type": "code",
   "execution_count": 190,
   "id": "spread-bridge",
   "metadata": {},
   "outputs": [],
   "source": [
    "nbs_L1_upp = nbs_L1 + stds_L1\n",
    "nbs_L1_low = nbs_L1 - stds_L1\n",
    "\n",
    "nbs_L10_upp = nbs_L10 + stds_L10\n",
    "nbs_L10_low = nbs_L10 - stds_L10\n",
    "\n",
    "nbs_L50_upp = nbs_L50 + stds_L50\n",
    "nbs_L50_low = nbs_L50 - stds_L50\n",
    "\n",
    "nbs_L100_upp = nbs_L100 + stds_L100\n",
    "nbs_L100_low = nbs_L100 - stds_L100"
   ]
  },
  {
   "cell_type": "code",
   "execution_count": 191,
   "id": "naval-primary",
   "metadata": {},
   "outputs": [
    {
     "data": {
      "image/png": "[encoded data removed]",
      "text/plain": [
       "<Figure size 1440x720 with 4 Axes>"
      ]
     },
     "metadata": {
      "needs_background": "light"
     },
     "output_type": "display_data"
    }
   ],
   "source": [
    "# plotting\n",
    "# 1st plot\n",
    "fig = plt.figure(figsize=(20,10))\n",
    "plt.subplot(2, 2, 1)\n",
    "plt.plot(wsizes,nbs_L1,'k-',marker = 'o',mfc = 'r', mec = 'r', label = '# of linear regions')\n",
    "plt.fill_between(wsizes, nbs_L1_upp, nbs_L1_low, color='gray')\n",
    "plt.legend()\n",
    "\n",
    "plt.xlabel(\"window size\")\n",
    "plt.ylabel(\"Avg. number of linear regions\")\n",
    "plt.title(\"Avg. number of linear regions w.r.t. window size with L = 1\",fontsize=8)\n",
    "# 2nd plot\n",
    "plt.subplot(2, 2, 2)\n",
    "plt.plot(wsizes,nbs_L10,'k-',marker = 'o',mfc = 'r', mec = 'r', label = '# of linear regions')\n",
    "plt.fill_between(wsizes, nbs_L10_upp, nbs_L10_low, color='gray')\n",
    "plt.legend()\n",
    "\n",
    "plt.xlabel(\"window size\")\n",
    "plt.ylabel(\"Avg. number of linear regions\")\n",
    "plt.title(\"Avg. number of linear regions w.r.t. window size with L = 10\",fontsize=8)\n",
    "# 3rd plot\n",
    "plt.subplot(2, 2, 3)\n",
    "plt.plot(wsizes,nbs_L50,'k-',marker = 'o',mfc = 'r', mec = 'r', label = '# of linear regions')\n",
    "plt.fill_between(wsizes, nbs_L50_upp, nbs_L50_low, color='gray')\n",
    "plt.legend()\n",
    "\n",
    "plt.xlabel(\"window size\")\n",
    "plt.ylabel(\"Avg. number of linear regions\")\n",
    "plt.title(\"Avg. number of linear regions w.r.t. window size with L = 50\",fontsize=8)\n",
    "# 4th plot\n",
    "plt.subplot(2, 2, 4)\n",
    "plt.plot(wsizes,nbs_L100,'k-',marker = 'o',mfc = 'r', mec = 'r', label = '# of linear regions')\n",
    "plt.fill_between(wsizes, nbs_L100_upp, nbs_L100_low, color='gray')\n",
    "plt.legend()\n",
    "\n",
    "plt.xlabel(\"window size\")\n",
    "plt.ylabel(\"Avg. number of linear regions\")\n",
    "plt.title(\"Avg. number of linear regions w.r.t. window size with L = 100\",fontsize=8)\n",
    "\n",
    "plt.savefig('figures/variation_windowsize.jpg')\n",
    "plt.show()"
   ]
  },
  {
   "cell_type": "markdown",
   "id": "entertaining-person",
   "metadata": {},
   "source": [
    "# the 2nd architecture"
   ]
  },
  {
   "cell_type": "code",
   "execution_count": 192,
   "id": "becoming-editor",
   "metadata": {},
   "outputs": [],
   "source": [
    "def arch_2(d, k, l):\n",
    "    ghh1 = GHH(d,2,k)\n",
    "    res = ghh1(d)\n",
    "    \n",
    "    for i in range(l-1):\n",
    "        ghh = GHH(res,1,k)\n",
    "        res = res.clone()\n",
    "        res = ghh(res)\n",
    "        \n",
    "    output = res.clone()\n",
    "    return output"
   ]
  },
  {
   "cell_type": "code",
   "execution_count": 197,
   "id": "second-difficulty",
   "metadata": {},
   "outputs": [],
   "source": [
    "def nb_region_arch2(x_range, y_range, step, ls, n_iter, save_name1, save_name2):\n",
    "    avg_nbs = []\n",
    "    stds = []\n",
    "    for l in ls:\n",
    "        stats = torch.empty(n_iter, 1)\n",
    "        for i in range(n_iter):\n",
    "            d, ll = generate_grid(x_range, y_range, step)\n",
    "            d.requires_grad_(True)\n",
    "            output = arch_2(d, 3, l)\n",
    "            grad_x, grad_y = compute_grad(output, d, ll)\n",
    "            reg = get_region_fast(grad_x, grad_y)\n",
    "            \n",
    "            stats[i,0] = len(set(reg.flatten()))\n",
    "        avg_nb = stats.mean(axis = 0)[0].item()\n",
    "        std = stats.std(axis = 0)[0].item()\n",
    "        avg_nbs.append(avg_nb)\n",
    "        stds.append(std)\n",
    "        print(f'{l}, finished.')\n",
    "    \n",
    "    # save the result\n",
    "    avg_nbs_tosave = np.array(avg_nbs)\n",
    "    stds_tosave = np.array(stds)\n",
    "    np.save(save_name1, avg_nbs_tosave)\n",
    "    np.save(save_name2, stds_tosave)\n",
    "    return avg_nbs, stds"
   ]
  },
  {
   "cell_type": "markdown",
   "id": "guided-block",
   "metadata": {},
   "source": [
    "### 1) stepsize"
   ]
  },
  {
   "cell_type": "code",
   "execution_count": 198,
   "id": "manual-continent",
   "metadata": {},
   "outputs": [
    {
     "data": {
      "text/plain": [
       "array([ 1,  2,  4,  6,  8, 10, 12, 14, 16, 18, 20])"
      ]
     },
     "execution_count": 198,
     "metadata": {},
     "output_type": "execute_result"
    }
   ],
   "source": [
    "x_range = [-10, 10]\n",
    "y_range = [-10, 10]\n",
    "ls = np.arange(0,21,2)\n",
    "ls[0] = 1\n",
    "ls"
   ]
  },
  {
   "cell_type": "code",
   "execution_count": 202,
   "id": "removable-october",
   "metadata": {},
   "outputs": [
    {
     "name": "stdout",
     "output_type": "stream",
     "text": [
      "1, finished.\n",
      "2, finished.\n",
      "4, finished.\n",
      "6, finished.\n",
      "8, finished.\n",
      "10, finished.\n",
      "12, finished.\n",
      "14, finished.\n",
      "16, finished.\n",
      "18, finished.\n",
      "20, finished.\n"
     ]
    }
   ],
   "source": [
    "nbs_05, stds_05 = nb_region_arch2(x_range, y_range, 0.5, ls, 1000, 'arch2/nbs_05.npy', 'arch2/stds_05.npy')"
   ]
  },
  {
   "cell_type": "code",
   "execution_count": 203,
   "id": "eastern-boring",
   "metadata": {},
   "outputs": [
    {
     "name": "stdout",
     "output_type": "stream",
     "text": [
      "1, finished.\n",
      "2, finished.\n",
      "4, finished.\n",
      "6, finished.\n",
      "8, finished.\n",
      "10, finished.\n",
      "12, finished.\n",
      "14, finished.\n",
      "16, finished.\n",
      "18, finished.\n",
      "20, finished.\n"
     ]
    }
   ],
   "source": [
    "nbs_02, stds_02 = nb_region_arch2(x_range, y_range, 0.2, ls, 1000, 'arch2/nbs_02.npy', 'arch2/stds_02.npy')"
   ]
  },
  {
   "cell_type": "code",
   "execution_count": 199,
   "id": "dominican-seeker",
   "metadata": {},
   "outputs": [
    {
     "name": "stdout",
     "output_type": "stream",
     "text": [
      "1, finished.\n",
      "2, finished.\n",
      "4, finished.\n",
      "6, finished.\n",
      "8, finished.\n",
      "10, finished.\n",
      "12, finished.\n",
      "14, finished.\n",
      "16, finished.\n",
      "18, finished.\n",
      "20, finished.\n"
     ]
    }
   ],
   "source": [
    "nbs_01, stds_01 = nb_region_arch2(x_range, y_range, 0.1, ls, 1000, 'arch2/nbs_01.npy', 'arch2/stds_01.npy')"
   ]
  },
  {
   "cell_type": "code",
   "execution_count": 204,
   "id": "referenced-committee",
   "metadata": {},
   "outputs": [
    {
     "name": "stdout",
     "output_type": "stream",
     "text": [
      "1, finished.\n",
      "2, finished.\n",
      "4, finished.\n",
      "6, finished.\n",
      "8, finished.\n",
      "10, finished.\n",
      "12, finished.\n",
      "14, finished.\n",
      "16, finished.\n",
      "18, finished.\n",
      "20, finished.\n"
     ]
    }
   ],
   "source": [
    "nbs_005, stds_005 = nb_region_arch2(x_range, y_range, 0.05, ls, 1000, 'arch2/nbs_005.npy', 'arch2/stds_005.npy')"
   ]
  },
  {
   "cell_type": "code",
   "execution_count": null,
   "id": "clear-february",
   "metadata": {},
   "outputs": [],
   "source": [
    "nbs_002, stds_002 = nb_region_arch2(x_range, y_range, 0.02, ls, 1000, 'arch2/nbs_002.npy', 'arch2/stds_002.npy')"
   ]
  },
  {
   "cell_type": "code",
   "execution_count": null,
   "id": "unable-comparative",
   "metadata": {},
   "outputs": [],
   "source": [
    "nbs_001, stds_001 = nb_region_arch2(x_range, y_range, 0.01, ls, 1000, 'arch2/nbs_001.npy', 'arch2/stds_001.npy')"
   ]
  },
  {
   "cell_type": "code",
   "execution_count": 206,
   "id": "hungarian-accounting",
   "metadata": {},
   "outputs": [],
   "source": [
    "nbs_005_np = np.array(nbs_005)\n",
    "stds_005_np = np.array(stds_005)\n",
    "upp_005 = nbs_005_np + stds_005_np\n",
    "low_005 = nbs_005_np - stds_005_np"
   ]
  },
  {
   "cell_type": "code",
   "execution_count": 207,
   "id": "fixed-sacramento",
   "metadata": {},
   "outputs": [],
   "source": [
    "nbs_01_np = np.array(nbs_01)\n",
    "stds_01_np = np.array(stds_01)\n",
    "upp_01 = nbs_01_np + stds_01_np\n",
    "low_01 = nbs_01_np - stds_01_np"
   ]
  },
  {
   "cell_type": "code",
   "execution_count": 208,
   "id": "resistant-authority",
   "metadata": {},
   "outputs": [
    {
     "data": {
      "image/png": "[encoded data removed]",
      "text/plain": [
       "<Figure size 1440x720 with 2 Axes>"
      ]
     },
     "metadata": {
      "needs_background": "light"
     },
     "output_type": "display_data"
    }
   ],
   "source": [
    "# plotting\n",
    "fig = plt.figure(figsize=(20,10))\n",
    "plt.subplot(1, 2, 1)\n",
    "plt.plot(ls,nbs_01_np,'k-',marker = 'o',mfc = 'r', mec = 'r', label = '# of linear regions')\n",
    "plt.fill_between(ls, upp_01, low_01, color='gray')\n",
    "plt.legend()\n",
    "\n",
    " \n",
    "\n",
    "#plt.loglog()\n",
    "plt.xlabel(\"L\")\n",
    "plt.ylabel(\"Avg. number of linear regions\")\n",
    "plt.title(\"Avg. number of linear regions w.r.t. the number of layers l with stepsize 0.1\",fontsize=8)\n",
    "\n",
    "plt.subplot(1, 2, 2)\n",
    "plt.plot(ls,nbs_005_np,'k-',marker = 'o',mfc = 'r', mec = 'r', label = '# of linear regions')\n",
    "plt.fill_between(ls, upp_005, low_005, color='gray')\n",
    "plt.legend()\n",
    "\n",
    " \n",
    "\n",
    "#plt.loglog()\n",
    "plt.xlabel(\"L\")\n",
    "plt.ylabel(\"Avg. number of linear regions\")\n",
    "plt.title(\"Avg. number of linear regions w.r.t. the number of layers l with stepsize 0.05\",fontsize=8)\n",
    "\n",
    "plt.savefig('figures/nb_linear_regions_stepsize_arch2.jpg')\n",
    "plt.show()\n"
   ]
  },
  {
   "cell_type": "code",
   "execution_count": 214,
   "id": "descending-nicaragua",
   "metadata": {},
   "outputs": [],
   "source": [
    "# cosntruct the x_axis with the values of stepsize\n",
    "stepsizes = np.array([0.5, 0.2, 0.1, 0.05])\n",
    "# for L = 1\n",
    "nbs_L1 = np.array([nbs_05[0],nbs_02[0],nbs_01[0],nbs_005[0]])\n",
    "\n",
    "stds_L1 = np.array([stds_05[0], stds_02[0],stds_01[0],stds_005[0]])\n",
    "#for L=2\n",
    "nbs_L10 = np.array([nbs_05[1],nbs_02[1],nbs_01[1],nbs_005[1]])\n",
    "\n",
    "stds_L10 = np.array([stds_05[1], stds_02[1],stds_01[1],stds_005[1]])\n",
    "# for L = 10\n",
    "nbs_L50 = np.array([nbs_05[5],nbs_02[5],nbs_01[5],nbs_005[5]])\n",
    "\n",
    "stds_L50 = np.array([stds_05[5], stds_02[5],stds_01[5],stds_005[5]])\n",
    "# for L = 20\n",
    "\n",
    "nbs_L100 = np.array([nbs_05[10],nbs_02[10],nbs_01[10],nbs_005[10]])\n",
    "\n",
    "stds_L100 = np.array([stds_05[10], stds_02[10],stds_01[10],stds_005[10]])"
   ]
  },
  {
   "cell_type": "code",
   "execution_count": 215,
   "id": "destroyed-halloween",
   "metadata": {},
   "outputs": [],
   "source": [
    "nbs_L1_upp = nbs_L1 + stds_L1\n",
    "nbs_L1_low = nbs_L1 - stds_L1\n",
    "\n",
    "nbs_L10_upp = nbs_L10 + stds_L10\n",
    "nbs_L10_low = nbs_L10 - stds_L10\n",
    "\n",
    "nbs_L50_upp = nbs_L50 + stds_L50\n",
    "nbs_L50_low = nbs_L50 - stds_L50\n",
    "\n",
    "nbs_L100_upp = nbs_L100 + stds_L100\n",
    "nbs_L100_low = nbs_L100 - stds_L100"
   ]
  },
  {
   "cell_type": "code",
   "execution_count": 216,
   "id": "naval-history",
   "metadata": {},
   "outputs": [
    {
     "data": {
      "image/png": "[encoded data removed]",
      "text/plain": [
       "<Figure size 1440x720 with 4 Axes>"
      ]
     },
     "metadata": {
      "needs_background": "light"
     },
     "output_type": "display_data"
    }
   ],
   "source": [
    "# plotting\n",
    "# 1st plot\n",
    "fig = plt.figure(figsize=(20,10))\n",
    "plt.subplot(2, 2, 1)\n",
    "plt.plot(stepsizes,nbs_L1,'k-',marker = 'o',mfc = 'r', mec = 'r', label = '# of linear regions')\n",
    "plt.fill_between(stepsizes, nbs_L1_upp, nbs_L1_low, color='gray')\n",
    "plt.legend()\n",
    "\n",
    "plt.xlabel(\"stepsize\")\n",
    "plt.ylabel(\"Avg. number of linear regions\")\n",
    "plt.title(\"Avg. number of linear regions w.r.t. stepsize with L = 1\",fontsize=8)\n",
    "# 2nd plot\n",
    "plt.subplot(2, 2, 2)\n",
    "plt.plot(stepsizes,nbs_L10,'k-',marker = 'o',mfc = 'r', mec = 'r', label = '# of linear regions')\n",
    "plt.fill_between(stepsizes, nbs_L10_upp, nbs_L10_low, color='gray')\n",
    "plt.legend()\n",
    "\n",
    "plt.xlabel(\"stepsize\")\n",
    "plt.ylabel(\"Avg. number of linear regions\")\n",
    "plt.title(\"Avg. number of linear regions w.r.t. stepsize with L = 2\",fontsize=8)\n",
    "# 3rd plot\n",
    "plt.subplot(2, 2, 3)\n",
    "plt.plot(stepsizes,nbs_L50,'k-',marker = 'o',mfc = 'r', mec = 'r', label = '# of linear regions')\n",
    "plt.fill_between(stepsizes, nbs_L50_upp, nbs_L50_low, color='gray')\n",
    "plt.legend()\n",
    "\n",
    "plt.xlabel(\"stepsize\")\n",
    "plt.ylabel(\"Avg. number of linear regions\")\n",
    "plt.title(\"Avg. number of linear regions w.r.t. stepsize with L = 10\",fontsize=8)\n",
    "# 4th plot\n",
    "plt.subplot(2, 2, 4)\n",
    "plt.plot(stepsizes,nbs_L100,'k-',marker = 'o',mfc = 'r', mec = 'r', label = '# of linear regions')\n",
    "plt.fill_between(stepsizes, nbs_L100_upp, nbs_L100_low, color='gray')\n",
    "plt.legend()\n",
    "\n",
    "plt.xlabel(\"stepsize\")\n",
    "plt.ylabel(\"Avg. number of linear regions\")\n",
    "plt.title(\"Avg. number of linear regions w.r.t. stepsize with L = 20\",fontsize=8)\n",
    "\n",
    "plt.savefig('figures/variation_stepsize_arch2.jpg')\n",
    "plt.show()"
   ]
  },
  {
   "cell_type": "markdown",
   "id": "endangered-stanley",
   "metadata": {},
   "source": [
    "### 2)window size"
   ]
  },
  {
   "cell_type": "code",
   "execution_count": 219,
   "id": "military-prescription",
   "metadata": {},
   "outputs": [],
   "source": [
    "# for a window size [-10, 10], reuse the result earlier\n",
    "nbs_w10 = np.load('arch2/nbs_005.npy')\n",
    "stds_w10 = np.load('arch2/stds_005.npy')"
   ]
  },
  {
   "cell_type": "code",
   "execution_count": 221,
   "id": "united-smooth",
   "metadata": {},
   "outputs": [
    {
     "name": "stdout",
     "output_type": "stream",
     "text": [
      "1, finished.\n",
      "2, finished.\n",
      "4, finished.\n",
      "6, finished.\n",
      "8, finished.\n",
      "10, finished.\n",
      "12, finished.\n",
      "14, finished.\n",
      "16, finished.\n",
      "18, finished.\n",
      "20, finished.\n"
     ]
    }
   ],
   "source": [
    "x_range = [-15, 15]\n",
    "y_range = [-15, 15]\n",
    "nbs_w15, stds_w15 = nb_region_arch2(x_range, y_range, 0.05, ls, 1000, 'arch2/nbs_w15.npy', 'arch2/stds_w15.npy')"
   ]
  },
  {
   "cell_type": "code",
   "execution_count": 222,
   "id": "dress-huntington",
   "metadata": {},
   "outputs": [
    {
     "name": "stdout",
     "output_type": "stream",
     "text": [
      "1, finished.\n",
      "2, finished.\n",
      "4, finished.\n",
      "6, finished.\n",
      "8, finished.\n",
      "10, finished.\n"
     ]
    },
    {
     "ename": "KeyboardInterrupt",
     "evalue": "",
     "output_type": "error",
     "traceback": [
      "\u001b[1;31m---------------------------------------------------------------------------\u001b[0m",
      "\u001b[1;31mKeyboardInterrupt\u001b[0m                         Traceback (most recent call last)",
      "\u001b[1;32m<ipython-input-222-88890a1dc724>\u001b[0m in \u001b[0;36m<module>\u001b[1;34m\u001b[0m\n\u001b[0;32m      1\u001b[0m \u001b[0mx_range\u001b[0m \u001b[1;33m=\u001b[0m \u001b[1;33m[\u001b[0m\u001b[1;33m-\u001b[0m\u001b[1;36m20\u001b[0m\u001b[1;33m,\u001b[0m \u001b[1;36m20\u001b[0m\u001b[1;33m]\u001b[0m\u001b[1;33m\u001b[0m\u001b[1;33m\u001b[0m\u001b[0m\n\u001b[0;32m      2\u001b[0m \u001b[0my_range\u001b[0m \u001b[1;33m=\u001b[0m \u001b[1;33m[\u001b[0m\u001b[1;33m-\u001b[0m\u001b[1;36m20\u001b[0m\u001b[1;33m,\u001b[0m \u001b[1;36m20\u001b[0m\u001b[1;33m]\u001b[0m\u001b[1;33m\u001b[0m\u001b[1;33m\u001b[0m\u001b[0m\n\u001b[1;32m----> 3\u001b[1;33m \u001b[0mnbs_w20\u001b[0m\u001b[1;33m,\u001b[0m \u001b[0mstds_w20\u001b[0m \u001b[1;33m=\u001b[0m \u001b[0mnb_region_arch2\u001b[0m\u001b[1;33m(\u001b[0m\u001b[0mx_range\u001b[0m\u001b[1;33m,\u001b[0m \u001b[0my_range\u001b[0m\u001b[1;33m,\u001b[0m \u001b[1;36m0.05\u001b[0m\u001b[1;33m,\u001b[0m \u001b[0mls\u001b[0m\u001b[1;33m,\u001b[0m \u001b[1;36m1000\u001b[0m\u001b[1;33m,\u001b[0m \u001b[1;34m'arch2/nbs_w20.npy'\u001b[0m\u001b[1;33m,\u001b[0m \u001b[1;34m'arch2/stds_w20.npy'\u001b[0m\u001b[1;33m)\u001b[0m\u001b[1;33m\u001b[0m\u001b[1;33m\u001b[0m\u001b[0m\n\u001b[0m",
      "\u001b[1;32m<ipython-input-197-05b740bc3cb9>\u001b[0m in \u001b[0;36mnb_region_arch2\u001b[1;34m(x_range, y_range, step, ls, n_iter, save_name1, save_name2)\u001b[0m\n\u001b[0;32m      9\u001b[0m             \u001b[0moutput\u001b[0m \u001b[1;33m=\u001b[0m \u001b[0march_2\u001b[0m\u001b[1;33m(\u001b[0m\u001b[0md\u001b[0m\u001b[1;33m,\u001b[0m \u001b[1;36m3\u001b[0m\u001b[1;33m,\u001b[0m \u001b[0ml\u001b[0m\u001b[1;33m)\u001b[0m\u001b[1;33m\u001b[0m\u001b[1;33m\u001b[0m\u001b[0m\n\u001b[0;32m     10\u001b[0m             \u001b[0mgrad_x\u001b[0m\u001b[1;33m,\u001b[0m \u001b[0mgrad_y\u001b[0m \u001b[1;33m=\u001b[0m \u001b[0mcompute_grad\u001b[0m\u001b[1;33m(\u001b[0m\u001b[0moutput\u001b[0m\u001b[1;33m,\u001b[0m \u001b[0md\u001b[0m\u001b[1;33m,\u001b[0m \u001b[0mll\u001b[0m\u001b[1;33m)\u001b[0m\u001b[1;33m\u001b[0m\u001b[1;33m\u001b[0m\u001b[0m\n\u001b[1;32m---> 11\u001b[1;33m             \u001b[0mreg\u001b[0m \u001b[1;33m=\u001b[0m \u001b[0mget_region_fast\u001b[0m\u001b[1;33m(\u001b[0m\u001b[0mgrad_x\u001b[0m\u001b[1;33m,\u001b[0m \u001b[0mgrad_y\u001b[0m\u001b[1;33m)\u001b[0m\u001b[1;33m\u001b[0m\u001b[1;33m\u001b[0m\u001b[0m\n\u001b[0m\u001b[0;32m     12\u001b[0m \u001b[1;33m\u001b[0m\u001b[0m\n\u001b[0;32m     13\u001b[0m             \u001b[0mstats\u001b[0m\u001b[1;33m[\u001b[0m\u001b[0mi\u001b[0m\u001b[1;33m,\u001b[0m\u001b[1;36m0\u001b[0m\u001b[1;33m]\u001b[0m \u001b[1;33m=\u001b[0m \u001b[0mlen\u001b[0m\u001b[1;33m(\u001b[0m\u001b[0mset\u001b[0m\u001b[1;33m(\u001b[0m\u001b[0mreg\u001b[0m\u001b[1;33m.\u001b[0m\u001b[0mflatten\u001b[0m\u001b[1;33m(\u001b[0m\u001b[1;33m)\u001b[0m\u001b[1;33m)\u001b[0m\u001b[1;33m)\u001b[0m\u001b[1;33m\u001b[0m\u001b[1;33m\u001b[0m\u001b[0m\n",
      "\u001b[1;32m~\\Desktop\\PROJ_1\\CPLF\\grid_method.py\u001b[0m in \u001b[0;36mget_region_fast\u001b[1;34m(grad_x, grad_y)\u001b[0m\n\u001b[0;32m     92\u001b[0m     \u001b[0mshape\u001b[0m \u001b[1;33m=\u001b[0m \u001b[0mgrad_x_n\u001b[0m\u001b[1;33m.\u001b[0m\u001b[0mshape\u001b[0m\u001b[1;33m\u001b[0m\u001b[1;33m\u001b[0m\u001b[0m\n\u001b[0;32m     93\u001b[0m     \u001b[0mgrad_x_n\u001b[0m \u001b[1;33m=\u001b[0m \u001b[0mgrad_x_n\u001b[0m\u001b[1;33m.\u001b[0m\u001b[0mastype\u001b[0m\u001b[1;33m(\u001b[0m\u001b[0mstr\u001b[0m\u001b[1;33m)\u001b[0m\u001b[1;33m\u001b[0m\u001b[1;33m\u001b[0m\u001b[0m\n\u001b[1;32m---> 94\u001b[1;33m     \u001b[0m_\u001b[0m\u001b[1;33m,\u001b[0m \u001b[0mdist_x\u001b[0m \u001b[1;33m=\u001b[0m \u001b[0mnp\u001b[0m\u001b[1;33m.\u001b[0m\u001b[0munique\u001b[0m\u001b[1;33m(\u001b[0m\u001b[0mgrad_x_n\u001b[0m\u001b[1;33m,\u001b[0m \u001b[0mreturn_inverse\u001b[0m \u001b[1;33m=\u001b[0m \u001b[1;32mTrue\u001b[0m\u001b[1;33m)\u001b[0m\u001b[1;33m\u001b[0m\u001b[1;33m\u001b[0m\u001b[0m\n\u001b[0m\u001b[0;32m     95\u001b[0m     \u001b[0mdist_x\u001b[0m \u001b[1;33m=\u001b[0m \u001b[0mdist_x\u001b[0m\u001b[1;33m.\u001b[0m\u001b[0mreshape\u001b[0m\u001b[1;33m(\u001b[0m\u001b[0mshape\u001b[0m\u001b[1;33m)\u001b[0m\u001b[1;33m\u001b[0m\u001b[1;33m\u001b[0m\u001b[0m\n\u001b[0;32m     96\u001b[0m \u001b[1;33m\u001b[0m\u001b[0m\n",
      "\u001b[1;32m<__array_function__ internals>\u001b[0m in \u001b[0;36munique\u001b[1;34m(*args, **kwargs)\u001b[0m\n",
      "\u001b[1;32mD:\\Anaconda3\\envs\\work\\lib\\site-packages\\numpy\\lib\\arraysetops.py\u001b[0m in \u001b[0;36munique\u001b[1;34m(ar, return_index, return_inverse, return_counts, axis)\u001b[0m\n\u001b[0;32m    259\u001b[0m     \u001b[0mar\u001b[0m \u001b[1;33m=\u001b[0m \u001b[0mnp\u001b[0m\u001b[1;33m.\u001b[0m\u001b[0masanyarray\u001b[0m\u001b[1;33m(\u001b[0m\u001b[0mar\u001b[0m\u001b[1;33m)\u001b[0m\u001b[1;33m\u001b[0m\u001b[1;33m\u001b[0m\u001b[0m\n\u001b[0;32m    260\u001b[0m     \u001b[1;32mif\u001b[0m \u001b[0maxis\u001b[0m \u001b[1;32mis\u001b[0m \u001b[1;32mNone\u001b[0m\u001b[1;33m:\u001b[0m\u001b[1;33m\u001b[0m\u001b[1;33m\u001b[0m\u001b[0m\n\u001b[1;32m--> 261\u001b[1;33m         \u001b[0mret\u001b[0m \u001b[1;33m=\u001b[0m \u001b[0m_unique1d\u001b[0m\u001b[1;33m(\u001b[0m\u001b[0mar\u001b[0m\u001b[1;33m,\u001b[0m \u001b[0mreturn_index\u001b[0m\u001b[1;33m,\u001b[0m \u001b[0mreturn_inverse\u001b[0m\u001b[1;33m,\u001b[0m \u001b[0mreturn_counts\u001b[0m\u001b[1;33m)\u001b[0m\u001b[1;33m\u001b[0m\u001b[1;33m\u001b[0m\u001b[0m\n\u001b[0m\u001b[0;32m    262\u001b[0m         \u001b[1;32mreturn\u001b[0m \u001b[0m_unpack_tuple\u001b[0m\u001b[1;33m(\u001b[0m\u001b[0mret\u001b[0m\u001b[1;33m)\u001b[0m\u001b[1;33m\u001b[0m\u001b[1;33m\u001b[0m\u001b[0m\n\u001b[0;32m    263\u001b[0m \u001b[1;33m\u001b[0m\u001b[0m\n",
      "\u001b[1;32mD:\\Anaconda3\\envs\\work\\lib\\site-packages\\numpy\\lib\\arraysetops.py\u001b[0m in \u001b[0;36m_unique1d\u001b[1;34m(ar, return_index, return_inverse, return_counts)\u001b[0m\n\u001b[0;32m    317\u001b[0m \u001b[1;33m\u001b[0m\u001b[0m\n\u001b[0;32m    318\u001b[0m     \u001b[1;32mif\u001b[0m \u001b[0moptional_indices\u001b[0m\u001b[1;33m:\u001b[0m\u001b[1;33m\u001b[0m\u001b[1;33m\u001b[0m\u001b[0m\n\u001b[1;32m--> 319\u001b[1;33m         \u001b[0mperm\u001b[0m \u001b[1;33m=\u001b[0m \u001b[0mar\u001b[0m\u001b[1;33m.\u001b[0m\u001b[0margsort\u001b[0m\u001b[1;33m(\u001b[0m\u001b[0mkind\u001b[0m\u001b[1;33m=\u001b[0m\u001b[1;34m'mergesort'\u001b[0m \u001b[1;32mif\u001b[0m \u001b[0mreturn_index\u001b[0m \u001b[1;32melse\u001b[0m \u001b[1;34m'quicksort'\u001b[0m\u001b[1;33m)\u001b[0m\u001b[1;33m\u001b[0m\u001b[1;33m\u001b[0m\u001b[0m\n\u001b[0m\u001b[0;32m    320\u001b[0m         \u001b[0maux\u001b[0m \u001b[1;33m=\u001b[0m \u001b[0mar\u001b[0m\u001b[1;33m[\u001b[0m\u001b[0mperm\u001b[0m\u001b[1;33m]\u001b[0m\u001b[1;33m\u001b[0m\u001b[1;33m\u001b[0m\u001b[0m\n\u001b[0;32m    321\u001b[0m     \u001b[1;32melse\u001b[0m\u001b[1;33m:\u001b[0m\u001b[1;33m\u001b[0m\u001b[1;33m\u001b[0m\u001b[0m\n",
      "\u001b[1;31mKeyboardInterrupt\u001b[0m: "
     ]
    }
   ],
   "source": [
    "x_range = [-20, 20]\n",
    "y_range = [-20, 20]\n",
    "nbs_w20, stds_w20 = nb_region_arch2(x_range, y_range, 0.05, ls, 1000, 'arch2/nbs_w20.npy', 'arch2/stds_w20.npy')"
   ]
  },
  {
   "cell_type": "code",
   "execution_count": null,
   "id": "placed-excellence",
   "metadata": {},
   "outputs": [],
   "source": [
    "x_range = [-30, 30]\n",
    "y_range = [-30, 30]\n",
    "nbs_w30, stds_w30 = nb_region_arch2(x_range, y_range, 0.05, ls, 1000, 'arch2/nbs_w30.npy', 'arch2/stds_w30.npy')"
   ]
  },
  {
   "cell_type": "code",
   "execution_count": 224,
   "id": "alpine-details",
   "metadata": {},
   "outputs": [],
   "source": [
    "nbs_w10_np = np.array(nbs_w10)\n",
    "stds_w10_np = np.array(stds_w10)\n",
    "upp_w10 = nbs_w10_np + stds_w10_np\n",
    "low_w10 = nbs_w10_np - stds_w10_np"
   ]
  },
  {
   "cell_type": "code",
   "execution_count": 225,
   "id": "continuing-perth",
   "metadata": {},
   "outputs": [],
   "source": [
    "nbs_w15_np = np.array(nbs_w15)\n",
    "stds_w15_np = np.array(stds_w15)\n",
    "upp_w15 = nbs_w15_np + stds_w15_np\n",
    "low_w15 = nbs_w15_np - stds_w15_np"
   ]
  },
  {
   "cell_type": "code",
   "execution_count": 226,
   "id": "biblical-calibration",
   "metadata": {},
   "outputs": [
    {
     "data": {
      "image/png": "[encoded data removed]",
      "text/plain": [
       "<Figure size 1440x720 with 2 Axes>"
      ]
     },
     "metadata": {
      "needs_background": "light"
     },
     "output_type": "display_data"
    }
   ],
   "source": [
    "# plotting\n",
    "fig = plt.figure(figsize=(20,10))\n",
    "plt.subplot(1, 2, 1)\n",
    "plt.plot(ls,nbs_w10_np,'k-',marker = 'o',mfc = 'r', mec = 'r', label = '# of linear regions')\n",
    "plt.fill_between(ls, upp_w10, low_w10, color='gray')\n",
    "plt.legend()\n",
    "\n",
    " \n",
    "\n",
    "#plt.loglog()\n",
    "plt.xlabel(\"L\")\n",
    "plt.ylabel(\"Avg. number of linear regions\")\n",
    "plt.title(\"Avg. number of linear regions w.r.t. the number of layers l with window size [-10, 10]\",fontsize=8)\n",
    "\n",
    "plt.subplot(1, 2, 2)\n",
    "plt.plot(ls,nbs_w15_np,'k-',marker = 'o',mfc = 'r', mec = 'r', label = '# of linear regions')\n",
    "plt.fill_between(ls, upp_w15, low_w15, color='gray')\n",
    "plt.legend()\n",
    "\n",
    " \n",
    "\n",
    "#plt.loglog()\n",
    "plt.xlabel(\"L\")\n",
    "plt.ylabel(\"Avg. number of linear regions\")\n",
    "plt.title(\"Avg. number of linear regions w.r.t. the number of layers l with window size [-15, 15]\",fontsize=8)\n",
    "\n",
    "plt.savefig('figures/nb_linear_regions_windowsize_arch2.jpg')\n",
    "plt.show()"
   ]
  }
 ],
 "metadata": {
  "kernelspec": {
   "display_name": "Python [conda env:work] *",
   "language": "python",
   "name": "conda-env-work-py"
  },
  "language_info": {
   "codemirror_mode": {
    "name": "ipython",
    "version": 3
   },
   "file_extension": ".py",
   "mimetype": "text/x-python",
   "name": "python",
   "nbconvert_exporter": "python",
   "pygments_lexer": "ipython3",
   "version": "3.7.9"
  }
 },
 "nbformat": 4,
 "nbformat_minor": 5
}
